{
 "cells": [
  {
   "cell_type": "code",
   "execution_count": 1,
   "metadata": {},
   "outputs": [
    {
     "data": {
      "text/plain": [
       "<function <run_path>.fetch(drive, category, market, start, end, method, url, param, date_parem_name, date_transfer_func, encoding, sleep, check=False)>"
      ]
     },
     "execution_count": 1,
     "metadata": {},
     "output_type": "execute_result"
    }
   ],
   "source": [
    "import runpy\n",
    "import pathlib\n",
    "fetch = runpy.run_path(pathlib.Path('.').absolute().parent.joinpath('download.py'))['fetch']\n",
    "fetch"
   ]
  },
  {
   "cell_type": "code",
   "execution_count": 2,
   "metadata": {},
   "outputs": [
    {
     "name": "stdout",
     "output_type": "stream",
     "text": [
      "FINISH!\n"
     ]
    }
   ],
   "source": [
    "url = 'https://www.twse.com.tw/exchangeReport/MI_MARGN'\n",
    "param = dict(response='html',selectType='STOCK')\n",
    "date_parem_name = 'date'\n",
    "date_transfer_func = lambda d:d.strftime('%Y%m%d')\n",
    "encoding = 'utf8'\n",
    "sleep = 10\n",
    "# fetch('D','融資券','上市','2001-01-02','2021-04-27','get',url,param,date_parem_name,date_transfer_func,encoding,sleep)\n",
    "fetch('D','融資券','上市','2016-04-25','2021-04-27','get',url,param,date_parem_name,date_transfer_func,encoding,sleep,True)"
   ]
  },
  {
   "cell_type": "code",
   "execution_count": 2,
   "metadata": {},
   "outputs": [
    {
     "name": "stdout",
     "output_type": "stream",
     "text": [
      "FINISH!\n"
     ]
    }
   ],
   "source": [
    "url = 'https://www.twse.com.tw/exchangeReport/MI_MARGN'\n",
    "param = dict(response='html',selectType='STOCK')\n",
    "date_parem_name = 'date'\n",
    "date_transfer_func = lambda d:d.strftime('%Y%m%d')\n",
    "encoding = 'utf8'\n",
    "sleep = 10\n",
    "fetch('D','融資券','上市','2021-04-28','2021-05-26','get',url,param,date_parem_name,date_transfer_func,encoding,sleep)\n",
    "fetch('D','融資券','上市','2021-04-28','2021-05-26','get',url,param,date_parem_name,date_transfer_func,encoding,sleep,True)"
   ]
  }
 ],
 "metadata": {
  "kernelspec": {
   "display_name": "Python 3",
   "language": "python",
   "name": "python3"
  },
  "language_info": {
   "codemirror_mode": {
    "name": "ipython",
    "version": 3
   },
   "file_extension": ".py",
   "mimetype": "text/x-python",
   "name": "python",
   "nbconvert_exporter": "python",
   "pygments_lexer": "ipython3",
   "version": "3.8.3"
  },
  "toc": {
   "base_numbering": 1,
   "nav_menu": {},
   "number_sections": true,
   "sideBar": true,
   "skip_h1_title": false,
   "title_cell": "Table of Contents",
   "title_sidebar": "Contents",
   "toc_cell": false,
   "toc_position": {},
   "toc_section_display": true,
   "toc_window_display": false
  },
  "varInspector": {
   "cols": {
    "lenName": 16,
    "lenType": 16,
    "lenVar": 40
   },
   "kernels_config": {
    "python": {
     "delete_cmd_postfix": "",
     "delete_cmd_prefix": "del ",
     "library": "var_list.py",
     "varRefreshCmd": "print(var_dic_list())"
    },
    "r": {
     "delete_cmd_postfix": ") ",
     "delete_cmd_prefix": "rm(",
     "library": "var_list.r",
     "varRefreshCmd": "cat(var_dic_list()) "
    }
   },
   "types_to_exclude": [
    "module",
    "function",
    "builtin_function_or_method",
    "instance",
    "_Feature"
   ],
   "window_display": false
  }
 },
 "nbformat": 4,
 "nbformat_minor": 4
}
