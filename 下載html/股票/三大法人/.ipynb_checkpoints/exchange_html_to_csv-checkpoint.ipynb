{
 "cells": [
  {
   "cell_type": "code",
   "execution_count": 1,
   "id": "ee7f4172",
   "metadata": {},
   "outputs": [],
   "source": [
    "import pathlib\n",
    "from bs4 import BeautifulSoup\n",
    "from IPython.display import clear_output\n",
    "import pandas as pd\n",
    "import datetime\n",
    "import pickle"
   ]
  },
  {
   "cell_type": "code",
   "execution_count": 2,
   "id": "44251ad7",
   "metadata": {},
   "outputs": [],
   "source": [
    "root = pathlib.Path('D:\\股票網頁\\股票\\三大法人')\n",
    "exchange = root.joinpath('上市')"
   ]
  },
  {
   "cell_type": "code",
   "execution_count": 52,
   "id": "fbe72821",
   "metadata": {},
   "outputs": [
    {
     "name": "stdout",
     "output_type": "stream",
     "text": [
      "2019-02-14.html\tO!=A!=B\n"
     ]
    }
   ],
   "source": [
    "exchange = root.joinpath('上市')\n",
    "exchange = sorted(exchange.glob('*.html'))\n",
    "diff_pair = [(i,i.with_suffix('.A.diff.html'),i.with_suffix('.B.diff.html')) for i in exchange if i.with_suffix('.A.diff.html').exists()]\n",
    "for diff in diff_pair:\n",
    "    print(diff[0].name,end='\\t')\n",
    "    O = diff[0].read_text(encoding='utf8')\n",
    "    A = diff[1].read_text(encoding='utf8')\n",
    "    B = diff[2].read_text(encoding='utf8')\n",
    "    if O == A:\n",
    "        diff[1].unlink()\n",
    "        diff[2].unlink()\n",
    "        print('O==A')\n",
    "    elif O == B:\n",
    "        diff[1].unlink()\n",
    "        diff[2].unlink()\n",
    "        print('O==B')\n",
    "    elif A == B:\n",
    "        diff[0].unlink()\n",
    "        diff[2].unlink()\n",
    "        diff[1].rename(diff[0])\n",
    "        print('A==B')\n",
    "    else:\n",
    "        try:\n",
    "            diff[0].rename(diff[0].with_suffix('.C.diff.html'))\n",
    "        except FileExistsError:\n",
    "            pass\n",
    "        print('O!=A!=B')"
   ]
  },
  {
   "cell_type": "code",
   "execution_count": 53,
   "id": "4cf44549",
   "metadata": {},
   "outputs": [
    {
     "name": "stdout",
     "output_type": "stream",
     "text": [
      "2019-02-14.html\tO==C\n"
     ]
    }
   ],
   "source": [
    "exchange = root.joinpath('上市')\n",
    "exchange = sorted(exchange.glob('*.html'))\n",
    "diff_pair = [(i,i.with_suffix('.A.diff.html'),i.with_suffix('.B.diff.html'),i.with_suffix('.C.diff.html')) for i in exchange if i.with_suffix('.A.diff.html').exists()]\n",
    "for diff in diff_pair:\n",
    "    print(diff[0].name,end='\\t')\n",
    "    O = diff[0].read_text(encoding='utf8')\n",
    "    A = diff[1].read_text(encoding='utf8')\n",
    "    B = diff[2].read_text(encoding='utf8')\n",
    "    C = diff[3].read_text(encoding='utf8')\n",
    "    if O == A:\n",
    "        diff[1].unlink()\n",
    "        diff[2].unlink()\n",
    "        diff[3].unlink()\n",
    "        print('O==A')\n",
    "    elif O == B:\n",
    "        diff[1].unlink()\n",
    "        diff[2].unlink()\n",
    "        diff[3].unlink()\n",
    "        print('O==B')\n",
    "    elif O == C:\n",
    "        diff[1].unlink()\n",
    "        diff[2].unlink()\n",
    "        diff[3].unlink()\n",
    "        print('O==C')\n",
    "    else:\n",
    "        print('O!=A!=B!=C')"
   ]
  },
  {
   "cell_type": "code",
   "execution_count": 3,
   "id": "578abfb7",
   "metadata": {},
   "outputs": [],
   "source": [
    "exchange = sorted(exchange.iterdir())"
   ]
  },
  {
   "cell_type": "code",
   "execution_count": 6,
   "id": "eac022f5",
   "metadata": {},
   "outputs": [],
   "source": [
    "exchange = [e.with_suffix('').name for e in exchange if '很抱歉，沒有符合條件的資料!' not in e.read_text(encoding='utf8')]"
   ]
  },
  {
   "cell_type": "code",
   "execution_count": 3,
   "id": "ff4ef310",
   "metadata": {},
   "outputs": [],
   "source": [
    "import pandas as pd\n",
    "import pickle"
   ]
  },
  {
   "cell_type": "code",
   "execution_count": 16,
   "id": "4fdc29ad",
   "metadata": {},
   "outputs": [],
   "source": [
    "with open('BusinessDates.idx','rb') as f:\n",
    "    business_dates = pickle.load(f)"
   ]
  },
  {
   "cell_type": "code",
   "execution_count": 18,
   "id": "76233bc6",
   "metadata": {},
   "outputs": [],
   "source": [
    "business_dates = business_dates[(business_dates>='2012-05-02')&(business_dates<='2021-05-26')]"
   ]
  },
  {
   "cell_type": "code",
   "execution_count": 19,
   "id": "e09099a0",
   "metadata": {},
   "outputs": [
    {
     "data": {
      "text/plain": [
       "DatetimeIndex([], dtype='datetime64[ns]', freq=None)"
      ]
     },
     "execution_count": 19,
     "metadata": {},
     "output_type": "execute_result"
    }
   ],
   "source": [
    "business_dates.difference(pd.DatetimeIndex(exchange))"
   ]
  },
  {
   "cell_type": "code",
   "execution_count": 21,
   "id": "a678a1aa",
   "metadata": {},
   "outputs": [
    {
     "data": {
      "text/plain": [
       "DatetimeIndex([], dtype='datetime64[ns]', freq=None)"
      ]
     },
     "execution_count": 21,
     "metadata": {},
     "output_type": "execute_result"
    }
   ],
   "source": [
    "pd.DatetimeIndex(exchange).difference(business_dates)"
   ]
  },
  {
   "cell_type": "code",
   "execution_count": 22,
   "id": "3c8a51d1",
   "metadata": {},
   "outputs": [
    {
     "data": {
      "text/plain": [
       "DatetimeIndex(['2012-05-02', '2012-05-03', '2012-05-04', '2012-05-07',\n",
       "               '2012-05-08', '2012-05-09', '2012-05-10', '2012-05-11',\n",
       "               '2012-05-14', '2012-05-15',\n",
       "               ...\n",
       "               '2021-05-13', '2021-05-14', '2021-05-17', '2021-05-18',\n",
       "               '2021-05-19', '2021-05-20', '2021-05-21', '2021-05-24',\n",
       "               '2021-05-25', '2021-05-26'],\n",
       "              dtype='datetime64[ns]', length=2226, freq=None)"
      ]
     },
     "execution_count": 22,
     "metadata": {},
     "output_type": "execute_result"
    }
   ],
   "source": [
    "pd.DatetimeIndex(exchange)"
   ]
  },
  {
   "cell_type": "code",
   "execution_count": 23,
   "id": "8be77497",
   "metadata": {},
   "outputs": [
    {
     "data": {
      "text/plain": [
       "DatetimeIndex(['2012-05-02', '2012-05-03', '2012-05-04', '2012-05-07',\n",
       "               '2012-05-08', '2012-05-09', '2012-05-10', '2012-05-11',\n",
       "               '2012-05-14', '2012-05-15',\n",
       "               ...\n",
       "               '2021-05-13', '2021-05-14', '2021-05-17', '2021-05-18',\n",
       "               '2021-05-19', '2021-05-20', '2021-05-21', '2021-05-24',\n",
       "               '2021-05-25', '2021-05-26'],\n",
       "              dtype='datetime64[ns]', length=2226, freq=None)"
      ]
     },
     "execution_count": 23,
     "metadata": {},
     "output_type": "execute_result"
    }
   ],
   "source": [
    "business_dates"
   ]
  },
  {
   "cell_type": "code",
   "execution_count": 4,
   "id": "b095cfaf",
   "metadata": {},
   "outputs": [],
   "source": [
    "exchange = root.joinpath('上市')\n",
    "exchange = sorted(exchange.glob('*.html'))"
   ]
  },
  {
   "cell_type": "code",
   "execution_count": 10,
   "id": "9b12f661",
   "metadata": {},
   "outputs": [
    {
     "name": "stdout",
     "output_type": "stream",
     "text": [
      "D:/股票網頁/股票/三大法人/上市/2021-05-26.html\t"
     ]
    }
   ],
   "source": [
    "record = {}\n",
    "for f in exchange:\n",
    "    print(f.as_posix(),end='\\t')\n",
    "    table =  f.read_text('utf8')\n",
    "    if '很抱歉，沒有符合條件的資料!' in table:\n",
    "        clear_output(wait=True)\n",
    "        continue\n",
    "    table = pd.read_html(table)[0]\n",
    "    date = pd.Timestamp(f.with_suffix('').name)\n",
    "    assert date.strftime(f'{date.year-1911}年%m月%d日 三大法人買賣超日報') == table.columns.levels[0][0]\n",
    "    record.setdefault(tuple(table.columns.droplevel(0)),f)\n",
    "    clear_output(wait=True)"
   ]
  },
  {
   "cell_type": "code",
   "execution_count": 11,
   "id": "2402ca2b",
   "metadata": {},
   "outputs": [
    {
     "data": {
      "text/plain": [
       "{('證券代號',\n",
       "  '證券名稱',\n",
       "  '外資買進股數',\n",
       "  '外資賣出股數',\n",
       "  '外資買賣超股數',\n",
       "  '投信買進股數',\n",
       "  '投信賣出股數',\n",
       "  '投信買賣超股數',\n",
       "  '自營商買賣超股數',\n",
       "  '自營商買進股數',\n",
       "  '自營商賣出股數',\n",
       "  '三大法人買賣超股數'): WindowsPath('D:/股票網頁/股票/三大法人/上市/2012-05-02.html'),\n",
       " ('證券代號',\n",
       "  '證券名稱',\n",
       "  '外資買進股數',\n",
       "  '外資賣出股數',\n",
       "  '外資買賣超股數',\n",
       "  '投信買進股數',\n",
       "  '投信賣出股數',\n",
       "  '投信買賣超股數',\n",
       "  '自營商買賣超股數',\n",
       "  '自營商買進股數(自行買賣)',\n",
       "  '自營商賣出股數(自行買賣)',\n",
       "  '自營商買賣超股數(自行買賣)',\n",
       "  '自營商買進股數(避險)',\n",
       "  '自營商賣出股數(避險)',\n",
       "  '自營商買賣超股數(避險)',\n",
       "  '三大法人買賣超股數'): WindowsPath('D:/股票網頁/股票/三大法人/上市/2014-12-01.html'),\n",
       " ('證券代號',\n",
       "  '證券名稱',\n",
       "  '外陸資買進股數(不含外資自營商)',\n",
       "  '外陸資賣出股數(不含外資自營商)',\n",
       "  '外陸資買賣超股數(不含外資自營商)',\n",
       "  '外資自營商買進股數',\n",
       "  '外資自營商賣出股數',\n",
       "  '外資自營商買賣超股數',\n",
       "  '投信買進股數',\n",
       "  '投信賣出股數',\n",
       "  '投信買賣超股數',\n",
       "  '自營商買賣超股數',\n",
       "  '自營商買進股數(自行買賣)',\n",
       "  '自營商賣出股數(自行買賣)',\n",
       "  '自營商買賣超股數(自行買賣)',\n",
       "  '自營商買進股數(避險)',\n",
       "  '自營商賣出股數(避險)',\n",
       "  '自營商買賣超股數(避險)',\n",
       "  '三大法人買賣超股數'): WindowsPath('D:/股票網頁/股票/三大法人/上市/2017-12-18.html')}"
      ]
     },
     "execution_count": 11,
     "metadata": {},
     "output_type": "execute_result"
    }
   ],
   "source": [
    "record"
   ]
  },
  {
   "cell_type": "code",
   "execution_count": 4,
   "id": "343d5e61",
   "metadata": {},
   "outputs": [
    {
     "name": "stdout",
     "output_type": "stream",
     "text": [
      "D:/股票網頁/股票/三大法人/上市/2014-11-30.html\n"
     ]
    }
   ],
   "source": [
    "first_table = pd.DataFrame()\n",
    "\n",
    "for date in pd.date_range('2012-05-02','2014-11-30'):\n",
    "    html = root.joinpath('上市',date.strftime('%Y-%m-%d.html'))\n",
    "    print(html.as_posix())\n",
    "    table =  html.read_text('utf8')\n",
    "    if '很抱歉，沒有符合條件的資料!' in table:\n",
    "        clear_output(wait=True)\n",
    "        continue\n",
    "    else:\n",
    "        table = pd.read_html(table,converters={'證券代號':str})[0]\n",
    "        table.columns = table.columns.droplevel(0)\n",
    "        table['日期'] = date\n",
    "        first_table = first_table.append(table)\n",
    "        clear_output(wait=True)"
   ]
  },
  {
   "cell_type": "code",
   "execution_count": 5,
   "id": "9e30ba26",
   "metadata": {},
   "outputs": [
    {
     "name": "stdout",
     "output_type": "stream",
     "text": [
      "D:/股票網頁/股票/三大法人/上市/2017-12-17.html\n"
     ]
    }
   ],
   "source": [
    "second_table = pd.DataFrame()\n",
    "for date in pd.date_range('2014-12-01','2017-12-17'):\n",
    "    html = root.joinpath('上市',date.strftime('%Y-%m-%d.html'))\n",
    "    print(html.as_posix())\n",
    "    table =  html.read_text('utf8')\n",
    "    if '很抱歉，沒有符合條件的資料!' in table:\n",
    "        clear_output(wait=True)\n",
    "        continue\n",
    "    else:\n",
    "        table = pd.read_html(table,converters={'證券代號':str})[0]\n",
    "        table.columns = table.columns.droplevel(0)\n",
    "        table['日期'] = date\n",
    "        second_table = second_table.append(table)\n",
    "        clear_output(wait=True)"
   ]
  },
  {
   "cell_type": "code",
   "execution_count": 6,
   "id": "6cb18d45",
   "metadata": {},
   "outputs": [
    {
     "name": "stdout",
     "output_type": "stream",
     "text": [
      "D:/股票網頁/股票/三大法人/上市/2021-05-26.html\n"
     ]
    }
   ],
   "source": [
    "third_table = pd.DataFrame()\n",
    "for date in pd.date_range('2017-12-18','2021-05-26'):\n",
    "    html = root.joinpath('上市',date.strftime('%Y-%m-%d.html'))\n",
    "    print(html.as_posix())\n",
    "    table =  html.read_text('utf8')\n",
    "    if '很抱歉，沒有符合條件的資料!' in table:\n",
    "        clear_output(wait=True)\n",
    "        continue\n",
    "    else:\n",
    "        table = pd.read_html(table,converters={'證券代號':str})[0]\n",
    "        table.columns = table.columns.droplevel(0)\n",
    "        table['日期'] = date\n",
    "        third_table = third_table.append(table)\n",
    "        clear_output(wait=True)"
   ]
  },
  {
   "cell_type": "code",
   "execution_count": 7,
   "id": "ce987806",
   "metadata": {},
   "outputs": [
    {
     "data": {
      "text/plain": [
       "Index(['證券代號', '證券名稱', '外資買進股數', '外資賣出股數', '外資買賣超股數', '投信買進股數', '投信賣出股數',\n",
       "       '投信買賣超股數', '自營商買賣超股數', '自營商買進股數', '自營商賣出股數', '三大法人買賣超股數', '日期'],\n",
       "      dtype='object')"
      ]
     },
     "execution_count": 7,
     "metadata": {},
     "output_type": "execute_result"
    }
   ],
   "source": [
    "first_table.columns"
   ]
  },
  {
   "cell_type": "code",
   "execution_count": 8,
   "id": "3b477079",
   "metadata": {
    "scrolled": true
   },
   "outputs": [
    {
     "data": {
      "text/plain": [
       "Index(['證券代號', '證券名稱', '外資買進股數', '外資賣出股數', '外資買賣超股數', '投信買進股數', '投信賣出股數',\n",
       "       '投信買賣超股數', '自營商買賣超股數', '自營商買進股數(自行買賣)', '自營商賣出股數(自行買賣)',\n",
       "       '自營商買賣超股數(自行買賣)', '自營商買進股數(避險)', '自營商賣出股數(避險)', '自營商買賣超股數(避險)',\n",
       "       '三大法人買賣超股數', '日期'],\n",
       "      dtype='object')"
      ]
     },
     "execution_count": 8,
     "metadata": {},
     "output_type": "execute_result"
    }
   ],
   "source": [
    "second_table.columns"
   ]
  },
  {
   "cell_type": "code",
   "execution_count": 9,
   "id": "2a285d93",
   "metadata": {
    "scrolled": true
   },
   "outputs": [
    {
     "data": {
      "text/plain": [
       "Index(['證券代號', '證券名稱', '外陸資買進股數(不含外資自營商)', '外陸資賣出股數(不含外資自營商)',\n",
       "       '外陸資買賣超股數(不含外資自營商)', '外資自營商買進股數', '外資自營商賣出股數', '外資自營商買賣超股數', '投信買進股數',\n",
       "       '投信賣出股數', '投信買賣超股數', '自營商買賣超股數', '自營商買進股數(自行買賣)', '自營商賣出股數(自行買賣)',\n",
       "       '自營商買賣超股數(自行買賣)', '自營商買進股數(避險)', '自營商賣出股數(避險)', '自營商買賣超股數(避險)',\n",
       "       '三大法人買賣超股數', '日期'],\n",
       "      dtype='object')"
      ]
     },
     "execution_count": 9,
     "metadata": {},
     "output_type": "execute_result"
    }
   ],
   "source": [
    "third_table.columns"
   ]
  },
  {
   "cell_type": "code",
   "execution_count": 10,
   "id": "4bded4d6",
   "metadata": {},
   "outputs": [
    {
     "data": {
      "text/plain": [
       "證券代號                 object\n",
       "證券名稱                 object\n",
       "外資買進股數                int64\n",
       "外資賣出股數                int64\n",
       "外資買賣超股數               int64\n",
       "投信買進股數                int64\n",
       "投信賣出股數                int64\n",
       "投信買賣超股數               int64\n",
       "自營商買賣超股數              int64\n",
       "自營商買進股數               int64\n",
       "自營商賣出股數               int64\n",
       "三大法人買賣超股數             int64\n",
       "日期           datetime64[ns]\n",
       "dtype: object"
      ]
     },
     "execution_count": 10,
     "metadata": {},
     "output_type": "execute_result"
    }
   ],
   "source": [
    "first_table.dtypes"
   ]
  },
  {
   "cell_type": "code",
   "execution_count": 11,
   "id": "b9242cbc",
   "metadata": {},
   "outputs": [
    {
     "data": {
      "text/plain": [
       "證券代號                      object\n",
       "證券名稱                      object\n",
       "外資買進股數                     int64\n",
       "外資賣出股數                     int64\n",
       "外資買賣超股數                    int64\n",
       "投信買進股數                     int64\n",
       "投信賣出股數                     int64\n",
       "投信買賣超股數                    int64\n",
       "自營商買賣超股數                   int64\n",
       "自營商買進股數(自行買賣)              int64\n",
       "自營商賣出股數(自行買賣)              int64\n",
       "自營商買賣超股數(自行買賣)             int64\n",
       "自營商買進股數(避險)                int64\n",
       "自營商賣出股數(避險)                int64\n",
       "自營商買賣超股數(避險)               int64\n",
       "三大法人買賣超股數                  int64\n",
       "日期                datetime64[ns]\n",
       "dtype: object"
      ]
     },
     "execution_count": 11,
     "metadata": {},
     "output_type": "execute_result"
    }
   ],
   "source": [
    "second_table.dtypes"
   ]
  },
  {
   "cell_type": "code",
   "execution_count": 12,
   "id": "4dd9a6be",
   "metadata": {},
   "outputs": [
    {
     "data": {
      "text/plain": [
       "證券代號                         object\n",
       "證券名稱                         object\n",
       "外陸資買進股數(不含外資自營商)              int64\n",
       "外陸資賣出股數(不含外資自營商)              int64\n",
       "外陸資買賣超股數(不含外資自營商)             int64\n",
       "外資自營商買進股數                     int64\n",
       "外資自營商賣出股數                     int64\n",
       "外資自營商買賣超股數                    int64\n",
       "投信買進股數                        int64\n",
       "投信賣出股數                        int64\n",
       "投信買賣超股數                       int64\n",
       "自營商買賣超股數                      int64\n",
       "自營商買進股數(自行買賣)                 int64\n",
       "自營商賣出股數(自行買賣)                 int64\n",
       "自營商買賣超股數(自行買賣)                int64\n",
       "自營商買進股數(避險)                   int64\n",
       "自營商賣出股數(避險)                   int64\n",
       "自營商買賣超股數(避險)                  int64\n",
       "三大法人買賣超股數                     int64\n",
       "日期                   datetime64[ns]\n",
       "dtype: object"
      ]
     },
     "execution_count": 12,
     "metadata": {},
     "output_type": "execute_result"
    }
   ],
   "source": [
    "third_table.dtypes"
   ]
  },
  {
   "cell_type": "code",
   "execution_count": 13,
   "id": "580628bd",
   "metadata": {},
   "outputs": [
    {
     "data": {
      "text/plain": [
       "Index(['自營商買進股數', '自營商賣出股數'], dtype='object')"
      ]
     },
     "execution_count": 13,
     "metadata": {},
     "output_type": "execute_result"
    }
   ],
   "source": [
    "first_table.columns.difference(second_table.columns)"
   ]
  },
  {
   "cell_type": "code",
   "execution_count": 14,
   "id": "dfa6de27",
   "metadata": {},
   "outputs": [
    {
     "data": {
      "text/plain": [
       "Index(['外資買賣超股數', '外資買進股數', '外資賣出股數', '自營商買進股數', '自營商賣出股數'], dtype='object')"
      ]
     },
     "execution_count": 14,
     "metadata": {},
     "output_type": "execute_result"
    }
   ],
   "source": [
    "first_table.columns.difference(third_table.columns)"
   ]
  },
  {
   "cell_type": "code",
   "execution_count": 15,
   "id": "fec7354a",
   "metadata": {},
   "outputs": [],
   "source": [
    "second_table['自營商買進股數'] = second_table['自營商買進股數(自行買賣)'] + second_table['自營商買進股數(避險)']\n",
    "second_table['自營商賣出股數'] = second_table['自營商賣出股數(自行買賣)'] + second_table['自營商賣出股數(避險)']\n",
    "\n",
    "second_table = second_table.reindex([\n",
    "    '日期',\n",
    "    '證券代號',\n",
    "    '證券名稱',\n",
    "    '外資買進股數',\n",
    "    '外資賣出股數',\n",
    "    '外資買賣超股數',\n",
    "    '投信買進股數',\n",
    "    '投信賣出股數',\n",
    "    '投信買賣超股數',\n",
    "    '自營商買進股數(自行買賣)',\n",
    "    '自營商賣出股數(自行買賣)',\n",
    "    '自營商買賣超股數(自行買賣)',\n",
    "    '自營商買進股數(避險)',\n",
    "    '自營商賣出股數(避險)',\n",
    "    '自營商買賣超股數(避險)',\n",
    "    '自營商買進股數',\n",
    "    '自營商賣出股數',\n",
    "    '自營商買賣超股數',\n",
    "    '三大法人買賣超股數'\n",
    "],axis=1)"
   ]
  },
  {
   "cell_type": "code",
   "execution_count": 16,
   "id": "b3061d8f",
   "metadata": {},
   "outputs": [],
   "source": [
    "third_table = third_table.rename({'外陸資買進股數(不含外資自營商)':'外資買進股數','外陸資賣出股數(不含外資自營商)':'外資賣出股數','外陸資買賣超股數(不含外資自營商)':'外資買賣超股數'},axis=1)\n",
    "third_table['自營商買進股數'] = third_table['自營商買進股數(自行買賣)'] + third_table['自營商買進股數(避險)']\n",
    "third_table['自營商賣出股數'] = third_table['自營商賣出股數(自行買賣)'] + third_table['自營商賣出股數(避險)']\n",
    "\n",
    "third_table = third_table.reindex([\n",
    "    '日期',\n",
    "    '證券代號',\n",
    "    '證券名稱',\n",
    "    '外資買進股數',\n",
    "    '外資賣出股數',\n",
    "    '外資買賣超股數',\n",
    "    '投信買進股數',\n",
    "    '投信賣出股數',\n",
    "    '投信買賣超股數',\n",
    "    '自營商買進股數(自行買賣)',\n",
    "    '自營商賣出股數(自行買賣)',\n",
    "    '自營商買賣超股數(自行買賣)',\n",
    "    '自營商買進股數(避險)',\n",
    "    '自營商賣出股數(避險)',\n",
    "    '自營商買賣超股數(避險)',\n",
    "    '外資自營商買進股數',\n",
    "    '外資自營商賣出股數',\n",
    "    '外資自營商買賣超股數',\n",
    "    '自營商買進股數',\n",
    "    '自營商賣出股數',\n",
    "    '自營商買賣超股數',\n",
    "    '三大法人買賣超股數'],axis=1)"
   ]
  },
  {
   "cell_type": "code",
   "execution_count": 17,
   "id": "acb904e4",
   "metadata": {},
   "outputs": [],
   "source": [
    "table = first_table.append([second_table,third_table])"
   ]
  },
  {
   "cell_type": "code",
   "execution_count": 18,
   "id": "a9ed8474",
   "metadata": {},
   "outputs": [],
   "source": [
    "table['三大法人買進'] = table['外資買進股數'] + table['投信買進股數'] + table['自營商買進股數']\n",
    "table['三大法人賣出'] = table['外資賣出股數'] + table['投信賣出股數'] + table['自營商賣出股數']"
   ]
  },
  {
   "cell_type": "code",
   "execution_count": 19,
   "id": "a7642712",
   "metadata": {},
   "outputs": [],
   "source": [
    "table = table.reindex([\n",
    "    '日期',\n",
    "    '證券代號',\n",
    "    '證券名稱',\n",
    "    '外資買進股數',\n",
    "    '外資賣出股數',\n",
    "    '外資買賣超股數',\n",
    "    '投信買進股數',\n",
    "    '投信賣出股數',\n",
    "    '投信買賣超股數',\n",
    "    '自營商買進股數(自行買賣)',\n",
    "    '自營商賣出股數(自行買賣)',\n",
    "    '自營商買賣超股數(自行買賣)',\n",
    "    '自營商買進股數(避險)',\n",
    "    '自營商賣出股數(避險)',\n",
    "    '自營商買賣超股數(避險)',\n",
    "    '外資自營商買進股數',\n",
    "    '外資自營商賣出股數',\n",
    "    '外資自營商買賣超股數',\n",
    "    '自營商買進股數',\n",
    "    '自營商賣出股數',\n",
    "    '自營商買賣超股數',\n",
    "    '三大法人買進',\n",
    "    '三大法人賣出',\n",
    "    '三大法人買賣超股數'],axis=1)"
   ]
  },
  {
   "cell_type": "code",
   "execution_count": 20,
   "id": "e2571393",
   "metadata": {},
   "outputs": [],
   "source": [
    "table = table.rename({\n",
    "    '日期':'日期',\n",
    "    '證券代號':'代號',\n",
    "    '證券名稱':'名稱',\n",
    "    '外資買進股數':'外資_買進',\n",
    "    '外資賣出股數':'外資_賣出',\n",
    "    '外資買賣超股數':'外資_買賣超',\n",
    "    '投信買進股數':'投信_買進',\n",
    "    '投信賣出股數':'投信_賣出',\n",
    "    '投信買賣超股數':'投信_買賣超',\n",
    "    '自營商買進股數(自行買賣)':'自營商_自行買賣_買進',\n",
    "    '自營商賣出股數(自行買賣)':'自營商_自行買賣_賣出',\n",
    "    '自營商買賣超股數(自行買賣)':'自營商_自行買賣_買賣超',\n",
    "    '自營商買進股數(避險)':'自營商_避險_買進',\n",
    "    '自營商賣出股數(避險)':'自營商_避險_賣出',\n",
    "    '自營商買賣超股數(避險)':'自營商_避險_買賣超',\n",
    "    '外資自營商買進股數':'自營商_外資_買進',\n",
    "    '外資自營商賣出股數':'自營商_外資_賣出',\n",
    "    '外資自營商買賣超股數':'自營商_外資_買賣超',\n",
    "    '自營商買進股數':'自營商_買進',\n",
    "    '自營商賣出股數':'自營商_賣出',\n",
    "    '自營商買賣超股數':'自營商_買賣超',\n",
    "    '三大法人買進':'三大法人_買進',\n",
    "    '三大法人賣出':'三大法人_賣出',\n",
    "    '三大法人買賣超股數':'三大法人_買賣超',\n",
    "},axis=1)"
   ]
  },
  {
   "cell_type": "code",
   "execution_count": 21,
   "id": "01125c97",
   "metadata": {},
   "outputs": [
    {
     "data": {
      "text/plain": [
       "日期              datetime64[ns]\n",
       "代號                      object\n",
       "名稱                      object\n",
       "外資_買進                    int64\n",
       "外資_賣出                    int64\n",
       "外資_買賣超                   int64\n",
       "投信_買進                    int64\n",
       "投信_賣出                    int64\n",
       "投信_買賣超                   int64\n",
       "自營商_自行買賣_買進            float64\n",
       "自營商_自行買賣_賣出            float64\n",
       "自營商_自行買賣_買賣超           float64\n",
       "自營商_避險_買進              float64\n",
       "自營商_避險_賣出              float64\n",
       "自營商_避險_買賣超             float64\n",
       "自營商_外資_買進              float64\n",
       "自營商_外資_賣出              float64\n",
       "自營商_外資_買賣超             float64\n",
       "自營商_買進                   int64\n",
       "自營商_賣出                   int64\n",
       "自營商_買賣超                  int64\n",
       "三大法人_買進                  int64\n",
       "三大法人_賣出                  int64\n",
       "三大法人_買賣超                 int64\n",
       "dtype: object"
      ]
     },
     "execution_count": 21,
     "metadata": {},
     "output_type": "execute_result"
    }
   ],
   "source": [
    "table.dtypes"
   ]
  },
  {
   "cell_type": "code",
   "execution_count": 66,
   "id": "e19e6e5b",
   "metadata": {},
   "outputs": [
    {
     "data": {
      "text/plain": [
       "True"
      ]
     },
     "execution_count": 66,
     "metadata": {},
     "output_type": "execute_result"
    }
   ],
   "source": [
    "(table['三大法人_買賣超'] == (table['三大法人_買進'] - table['三大法人_賣出'])).all()"
   ]
  },
  {
   "cell_type": "code",
   "execution_count": 22,
   "id": "7b784b69",
   "metadata": {},
   "outputs": [
    {
     "data": {
      "text/html": [
       "<div>\n",
       "<style scoped>\n",
       "    .dataframe tbody tr th:only-of-type {\n",
       "        vertical-align: middle;\n",
       "    }\n",
       "\n",
       "    .dataframe tbody tr th {\n",
       "        vertical-align: top;\n",
       "    }\n",
       "\n",
       "    .dataframe thead th {\n",
       "        text-align: right;\n",
       "    }\n",
       "</style>\n",
       "<table border=\"1\" class=\"dataframe\">\n",
       "  <thead>\n",
       "    <tr style=\"text-align: right;\">\n",
       "      <th></th>\n",
       "      <th>日期</th>\n",
       "      <th>代號</th>\n",
       "      <th>名稱</th>\n",
       "      <th>外資_買進</th>\n",
       "      <th>外資_賣出</th>\n",
       "      <th>外資_買賣超</th>\n",
       "      <th>投信_買進</th>\n",
       "      <th>投信_賣出</th>\n",
       "      <th>投信_買賣超</th>\n",
       "      <th>自營商_自行買賣_買進</th>\n",
       "      <th>...</th>\n",
       "      <th>自營商_避險_買賣超</th>\n",
       "      <th>自營商_外資_買進</th>\n",
       "      <th>自營商_外資_賣出</th>\n",
       "      <th>自營商_外資_買賣超</th>\n",
       "      <th>自營商_買進</th>\n",
       "      <th>自營商_賣出</th>\n",
       "      <th>自營商_買賣超</th>\n",
       "      <th>三大法人_買進</th>\n",
       "      <th>三大法人_賣出</th>\n",
       "      <th>三大法人_買賣超</th>\n",
       "    </tr>\n",
       "  </thead>\n",
       "  <tbody>\n",
       "    <tr>\n",
       "      <th>0</th>\n",
       "      <td>2012-05-02</td>\n",
       "      <td>2303</td>\n",
       "      <td>聯電</td>\n",
       "      <td>46911000</td>\n",
       "      <td>28499762</td>\n",
       "      <td>18411238</td>\n",
       "      <td>5707000</td>\n",
       "      <td>0</td>\n",
       "      <td>5707000</td>\n",
       "      <td>NaN</td>\n",
       "      <td>...</td>\n",
       "      <td>NaN</td>\n",
       "      <td>NaN</td>\n",
       "      <td>NaN</td>\n",
       "      <td>NaN</td>\n",
       "      <td>648000</td>\n",
       "      <td>2000</td>\n",
       "      <td>646000</td>\n",
       "      <td>53266000</td>\n",
       "      <td>28501762</td>\n",
       "      <td>24764238</td>\n",
       "    </tr>\n",
       "    <tr>\n",
       "      <th>1</th>\n",
       "      <td>2012-05-02</td>\n",
       "      <td>2324</td>\n",
       "      <td>仁寶</td>\n",
       "      <td>18164000</td>\n",
       "      <td>3682000</td>\n",
       "      <td>14482000</td>\n",
       "      <td>980000</td>\n",
       "      <td>0</td>\n",
       "      <td>980000</td>\n",
       "      <td>NaN</td>\n",
       "      <td>...</td>\n",
       "      <td>NaN</td>\n",
       "      <td>NaN</td>\n",
       "      <td>NaN</td>\n",
       "      <td>NaN</td>\n",
       "      <td>554000</td>\n",
       "      <td>139000</td>\n",
       "      <td>415000</td>\n",
       "      <td>19698000</td>\n",
       "      <td>3821000</td>\n",
       "      <td>15877000</td>\n",
       "    </tr>\n",
       "    <tr>\n",
       "      <th>2</th>\n",
       "      <td>2012-05-02</td>\n",
       "      <td>2888</td>\n",
       "      <td>新光金</td>\n",
       "      <td>10855000</td>\n",
       "      <td>1624000</td>\n",
       "      <td>9231000</td>\n",
       "      <td>80000</td>\n",
       "      <td>0</td>\n",
       "      <td>80000</td>\n",
       "      <td>NaN</td>\n",
       "      <td>...</td>\n",
       "      <td>NaN</td>\n",
       "      <td>NaN</td>\n",
       "      <td>NaN</td>\n",
       "      <td>NaN</td>\n",
       "      <td>891000</td>\n",
       "      <td>97000</td>\n",
       "      <td>794000</td>\n",
       "      <td>11826000</td>\n",
       "      <td>1721000</td>\n",
       "      <td>10105000</td>\n",
       "    </tr>\n",
       "    <tr>\n",
       "      <th>3</th>\n",
       "      <td>2012-05-02</td>\n",
       "      <td>1216</td>\n",
       "      <td>統一</td>\n",
       "      <td>9534000</td>\n",
       "      <td>1743124</td>\n",
       "      <td>7790876</td>\n",
       "      <td>1942000</td>\n",
       "      <td>100000</td>\n",
       "      <td>1842000</td>\n",
       "      <td>NaN</td>\n",
       "      <td>...</td>\n",
       "      <td>NaN</td>\n",
       "      <td>NaN</td>\n",
       "      <td>NaN</td>\n",
       "      <td>NaN</td>\n",
       "      <td>210000</td>\n",
       "      <td>130000</td>\n",
       "      <td>80000</td>\n",
       "      <td>11686000</td>\n",
       "      <td>1973124</td>\n",
       "      <td>9712876</td>\n",
       "    </tr>\n",
       "    <tr>\n",
       "      <th>4</th>\n",
       "      <td>2012-05-02</td>\n",
       "      <td>2891</td>\n",
       "      <td>中信金</td>\n",
       "      <td>15626000</td>\n",
       "      <td>7611326</td>\n",
       "      <td>8014674</td>\n",
       "      <td>736000</td>\n",
       "      <td>0</td>\n",
       "      <td>736000</td>\n",
       "      <td>NaN</td>\n",
       "      <td>...</td>\n",
       "      <td>NaN</td>\n",
       "      <td>NaN</td>\n",
       "      <td>NaN</td>\n",
       "      <td>NaN</td>\n",
       "      <td>956000</td>\n",
       "      <td>460223</td>\n",
       "      <td>495777</td>\n",
       "      <td>17318000</td>\n",
       "      <td>8071549</td>\n",
       "      <td>9246451</td>\n",
       "    </tr>\n",
       "    <tr>\n",
       "      <th>...</th>\n",
       "      <td>...</td>\n",
       "      <td>...</td>\n",
       "      <td>...</td>\n",
       "      <td>...</td>\n",
       "      <td>...</td>\n",
       "      <td>...</td>\n",
       "      <td>...</td>\n",
       "      <td>...</td>\n",
       "      <td>...</td>\n",
       "      <td>...</td>\n",
       "      <td>...</td>\n",
       "      <td>...</td>\n",
       "      <td>...</td>\n",
       "      <td>...</td>\n",
       "      <td>...</td>\n",
       "      <td>...</td>\n",
       "      <td>...</td>\n",
       "      <td>...</td>\n",
       "      <td>...</td>\n",
       "      <td>...</td>\n",
       "      <td>...</td>\n",
       "    </tr>\n",
       "    <tr>\n",
       "      <th>1076</th>\n",
       "      <td>2021-05-26</td>\n",
       "      <td>1304</td>\n",
       "      <td>台聚</td>\n",
       "      <td>3524822</td>\n",
       "      <td>19047000</td>\n",
       "      <td>-15522178</td>\n",
       "      <td>0</td>\n",
       "      <td>0</td>\n",
       "      <td>0</td>\n",
       "      <td>321000.0</td>\n",
       "      <td>...</td>\n",
       "      <td>89000.0</td>\n",
       "      <td>0.0</td>\n",
       "      <td>0.0</td>\n",
       "      <td>0.0</td>\n",
       "      <td>437000</td>\n",
       "      <td>61627</td>\n",
       "      <td>375373</td>\n",
       "      <td>3961822</td>\n",
       "      <td>19108627</td>\n",
       "      <td>-15146805</td>\n",
       "    </tr>\n",
       "    <tr>\n",
       "      <th>1077</th>\n",
       "      <td>2021-05-26</td>\n",
       "      <td>2344</td>\n",
       "      <td>華邦電</td>\n",
       "      <td>15044100</td>\n",
       "      <td>42994200</td>\n",
       "      <td>-27950100</td>\n",
       "      <td>3341000</td>\n",
       "      <td>0</td>\n",
       "      <td>3341000</td>\n",
       "      <td>1194025.0</td>\n",
       "      <td>...</td>\n",
       "      <td>-776000.0</td>\n",
       "      <td>0.0</td>\n",
       "      <td>0.0</td>\n",
       "      <td>0.0</td>\n",
       "      <td>1824025</td>\n",
       "      <td>2653066</td>\n",
       "      <td>-829041</td>\n",
       "      <td>20209125</td>\n",
       "      <td>45647266</td>\n",
       "      <td>-25438141</td>\n",
       "    </tr>\n",
       "    <tr>\n",
       "      <th>1078</th>\n",
       "      <td>2021-05-26</td>\n",
       "      <td>6116</td>\n",
       "      <td>彩晶</td>\n",
       "      <td>17168010</td>\n",
       "      <td>45235340</td>\n",
       "      <td>-28067330</td>\n",
       "      <td>543911</td>\n",
       "      <td>0</td>\n",
       "      <td>543911</td>\n",
       "      <td>2798000.0</td>\n",
       "      <td>...</td>\n",
       "      <td>-717300.0</td>\n",
       "      <td>0.0</td>\n",
       "      <td>0.0</td>\n",
       "      <td>0.0</td>\n",
       "      <td>3484000</td>\n",
       "      <td>4169743</td>\n",
       "      <td>-685743</td>\n",
       "      <td>21195921</td>\n",
       "      <td>49405083</td>\n",
       "      <td>-28209162</td>\n",
       "    </tr>\n",
       "    <tr>\n",
       "      <th>1079</th>\n",
       "      <td>2021-05-26</td>\n",
       "      <td>2303</td>\n",
       "      <td>聯電</td>\n",
       "      <td>21048000</td>\n",
       "      <td>73302182</td>\n",
       "      <td>-52254182</td>\n",
       "      <td>12836000</td>\n",
       "      <td>865000</td>\n",
       "      <td>11971000</td>\n",
       "      <td>9177000.0</td>\n",
       "      <td>...</td>\n",
       "      <td>-376237.0</td>\n",
       "      <td>0.0</td>\n",
       "      <td>0.0</td>\n",
       "      <td>0.0</td>\n",
       "      <td>10144400</td>\n",
       "      <td>8905637</td>\n",
       "      <td>1238763</td>\n",
       "      <td>44028400</td>\n",
       "      <td>83072819</td>\n",
       "      <td>-39044419</td>\n",
       "    </tr>\n",
       "    <tr>\n",
       "      <th>1080</th>\n",
       "      <td>2021-05-26</td>\n",
       "      <td>3481</td>\n",
       "      <td>群創</td>\n",
       "      <td>62598750</td>\n",
       "      <td>107473000</td>\n",
       "      <td>-44874250</td>\n",
       "      <td>1000000</td>\n",
       "      <td>12572000</td>\n",
       "      <td>-11572000</td>\n",
       "      <td>5629000.0</td>\n",
       "      <td>...</td>\n",
       "      <td>-2761000.0</td>\n",
       "      <td>0.0</td>\n",
       "      <td>0.0</td>\n",
       "      <td>0.0</td>\n",
       "      <td>7012000</td>\n",
       "      <td>8972398</td>\n",
       "      <td>-1960398</td>\n",
       "      <td>70610750</td>\n",
       "      <td>129017398</td>\n",
       "      <td>-58406648</td>\n",
       "    </tr>\n",
       "  </tbody>\n",
       "</table>\n",
       "<p>1978023 rows × 24 columns</p>\n",
       "</div>"
      ],
      "text/plain": [
       "             日期    代號   名稱     外資_買進      外資_賣出    外資_買賣超     投信_買進     投信_賣出  \\\n",
       "0    2012-05-02  2303   聯電  46911000   28499762  18411238   5707000         0   \n",
       "1    2012-05-02  2324   仁寶  18164000    3682000  14482000    980000         0   \n",
       "2    2012-05-02  2888  新光金  10855000    1624000   9231000     80000         0   \n",
       "3    2012-05-02  1216   統一   9534000    1743124   7790876   1942000    100000   \n",
       "4    2012-05-02  2891  中信金  15626000    7611326   8014674    736000         0   \n",
       "...         ...   ...  ...       ...        ...       ...       ...       ...   \n",
       "1076 2021-05-26  1304   台聚   3524822   19047000 -15522178         0         0   \n",
       "1077 2021-05-26  2344  華邦電  15044100   42994200 -27950100   3341000         0   \n",
       "1078 2021-05-26  6116   彩晶  17168010   45235340 -28067330    543911         0   \n",
       "1079 2021-05-26  2303   聯電  21048000   73302182 -52254182  12836000    865000   \n",
       "1080 2021-05-26  3481   群創  62598750  107473000 -44874250   1000000  12572000   \n",
       "\n",
       "        投信_買賣超  自營商_自行買賣_買進  ...  自營商_避險_買賣超  自營商_外資_買進  自營商_外資_賣出  \\\n",
       "0      5707000          NaN  ...         NaN        NaN        NaN   \n",
       "1       980000          NaN  ...         NaN        NaN        NaN   \n",
       "2        80000          NaN  ...         NaN        NaN        NaN   \n",
       "3      1842000          NaN  ...         NaN        NaN        NaN   \n",
       "4       736000          NaN  ...         NaN        NaN        NaN   \n",
       "...        ...          ...  ...         ...        ...        ...   \n",
       "1076         0     321000.0  ...     89000.0        0.0        0.0   \n",
       "1077   3341000    1194025.0  ...   -776000.0        0.0        0.0   \n",
       "1078    543911    2798000.0  ...   -717300.0        0.0        0.0   \n",
       "1079  11971000    9177000.0  ...   -376237.0        0.0        0.0   \n",
       "1080 -11572000    5629000.0  ...  -2761000.0        0.0        0.0   \n",
       "\n",
       "      自營商_外資_買賣超    自營商_買進   自營商_賣出  自營商_買賣超   三大法人_買進    三大法人_賣出  三大法人_買賣超  \n",
       "0            NaN    648000     2000   646000  53266000   28501762  24764238  \n",
       "1            NaN    554000   139000   415000  19698000    3821000  15877000  \n",
       "2            NaN    891000    97000   794000  11826000    1721000  10105000  \n",
       "3            NaN    210000   130000    80000  11686000    1973124   9712876  \n",
       "4            NaN    956000   460223   495777  17318000    8071549   9246451  \n",
       "...          ...       ...      ...      ...       ...        ...       ...  \n",
       "1076         0.0    437000    61627   375373   3961822   19108627 -15146805  \n",
       "1077         0.0   1824025  2653066  -829041  20209125   45647266 -25438141  \n",
       "1078         0.0   3484000  4169743  -685743  21195921   49405083 -28209162  \n",
       "1079         0.0  10144400  8905637  1238763  44028400   83072819 -39044419  \n",
       "1080         0.0   7012000  8972398 -1960398  70610750  129017398 -58406648  \n",
       "\n",
       "[1978023 rows x 24 columns]"
      ]
     },
     "execution_count": 22,
     "metadata": {},
     "output_type": "execute_result"
    }
   ],
   "source": [
    "table"
   ]
  },
  {
   "cell_type": "code",
   "execution_count": 23,
   "id": "036aa63c",
   "metadata": {},
   "outputs": [],
   "source": [
    "table.to_csv(root.joinpath('上市.csv'),encoding='utf8',index=False)"
   ]
  },
  {
   "cell_type": "code",
   "execution_count": 24,
   "id": "222990d1",
   "metadata": {},
   "outputs": [
    {
     "data": {
      "text/html": [
       "<div>\n",
       "<style scoped>\n",
       "    .dataframe tbody tr th:only-of-type {\n",
       "        vertical-align: middle;\n",
       "    }\n",
       "\n",
       "    .dataframe tbody tr th {\n",
       "        vertical-align: top;\n",
       "    }\n",
       "\n",
       "    .dataframe thead th {\n",
       "        text-align: right;\n",
       "    }\n",
       "</style>\n",
       "<table border=\"1\" class=\"dataframe\">\n",
       "  <thead>\n",
       "    <tr style=\"text-align: right;\">\n",
       "      <th></th>\n",
       "      <th>日期</th>\n",
       "      <th>代號</th>\n",
       "      <th>名稱</th>\n",
       "      <th>外資_買進</th>\n",
       "      <th>外資_賣出</th>\n",
       "      <th>外資_買賣超</th>\n",
       "      <th>投信_買進</th>\n",
       "      <th>投信_賣出</th>\n",
       "      <th>投信_買賣超</th>\n",
       "      <th>自營商_自行買賣_買進</th>\n",
       "      <th>...</th>\n",
       "      <th>自營商_避險_買賣超</th>\n",
       "      <th>自營商_外資_買進</th>\n",
       "      <th>自營商_外資_賣出</th>\n",
       "      <th>自營商_外資_買賣超</th>\n",
       "      <th>自營商_買進</th>\n",
       "      <th>自營商_賣出</th>\n",
       "      <th>自營商_買賣超</th>\n",
       "      <th>三大法人_買進</th>\n",
       "      <th>三大法人_賣出</th>\n",
       "      <th>三大法人_買賣超</th>\n",
       "    </tr>\n",
       "  </thead>\n",
       "  <tbody>\n",
       "    <tr>\n",
       "      <th>0</th>\n",
       "      <td>2012-05-02</td>\n",
       "      <td>2303</td>\n",
       "      <td>聯電</td>\n",
       "      <td>46911000</td>\n",
       "      <td>28499762</td>\n",
       "      <td>18411238</td>\n",
       "      <td>5707000</td>\n",
       "      <td>0</td>\n",
       "      <td>5707000</td>\n",
       "      <td>NaN</td>\n",
       "      <td>...</td>\n",
       "      <td>NaN</td>\n",
       "      <td>NaN</td>\n",
       "      <td>NaN</td>\n",
       "      <td>NaN</td>\n",
       "      <td>648000</td>\n",
       "      <td>2000</td>\n",
       "      <td>646000</td>\n",
       "      <td>53266000</td>\n",
       "      <td>28501762</td>\n",
       "      <td>24764238</td>\n",
       "    </tr>\n",
       "    <tr>\n",
       "      <th>1</th>\n",
       "      <td>2012-05-02</td>\n",
       "      <td>2324</td>\n",
       "      <td>仁寶</td>\n",
       "      <td>18164000</td>\n",
       "      <td>3682000</td>\n",
       "      <td>14482000</td>\n",
       "      <td>980000</td>\n",
       "      <td>0</td>\n",
       "      <td>980000</td>\n",
       "      <td>NaN</td>\n",
       "      <td>...</td>\n",
       "      <td>NaN</td>\n",
       "      <td>NaN</td>\n",
       "      <td>NaN</td>\n",
       "      <td>NaN</td>\n",
       "      <td>554000</td>\n",
       "      <td>139000</td>\n",
       "      <td>415000</td>\n",
       "      <td>19698000</td>\n",
       "      <td>3821000</td>\n",
       "      <td>15877000</td>\n",
       "    </tr>\n",
       "    <tr>\n",
       "      <th>2</th>\n",
       "      <td>2012-05-02</td>\n",
       "      <td>2888</td>\n",
       "      <td>新光金</td>\n",
       "      <td>10855000</td>\n",
       "      <td>1624000</td>\n",
       "      <td>9231000</td>\n",
       "      <td>80000</td>\n",
       "      <td>0</td>\n",
       "      <td>80000</td>\n",
       "      <td>NaN</td>\n",
       "      <td>...</td>\n",
       "      <td>NaN</td>\n",
       "      <td>NaN</td>\n",
       "      <td>NaN</td>\n",
       "      <td>NaN</td>\n",
       "      <td>891000</td>\n",
       "      <td>97000</td>\n",
       "      <td>794000</td>\n",
       "      <td>11826000</td>\n",
       "      <td>1721000</td>\n",
       "      <td>10105000</td>\n",
       "    </tr>\n",
       "    <tr>\n",
       "      <th>3</th>\n",
       "      <td>2012-05-02</td>\n",
       "      <td>1216</td>\n",
       "      <td>統一</td>\n",
       "      <td>9534000</td>\n",
       "      <td>1743124</td>\n",
       "      <td>7790876</td>\n",
       "      <td>1942000</td>\n",
       "      <td>100000</td>\n",
       "      <td>1842000</td>\n",
       "      <td>NaN</td>\n",
       "      <td>...</td>\n",
       "      <td>NaN</td>\n",
       "      <td>NaN</td>\n",
       "      <td>NaN</td>\n",
       "      <td>NaN</td>\n",
       "      <td>210000</td>\n",
       "      <td>130000</td>\n",
       "      <td>80000</td>\n",
       "      <td>11686000</td>\n",
       "      <td>1973124</td>\n",
       "      <td>9712876</td>\n",
       "    </tr>\n",
       "    <tr>\n",
       "      <th>4</th>\n",
       "      <td>2012-05-02</td>\n",
       "      <td>2891</td>\n",
       "      <td>中信金</td>\n",
       "      <td>15626000</td>\n",
       "      <td>7611326</td>\n",
       "      <td>8014674</td>\n",
       "      <td>736000</td>\n",
       "      <td>0</td>\n",
       "      <td>736000</td>\n",
       "      <td>NaN</td>\n",
       "      <td>...</td>\n",
       "      <td>NaN</td>\n",
       "      <td>NaN</td>\n",
       "      <td>NaN</td>\n",
       "      <td>NaN</td>\n",
       "      <td>956000</td>\n",
       "      <td>460223</td>\n",
       "      <td>495777</td>\n",
       "      <td>17318000</td>\n",
       "      <td>8071549</td>\n",
       "      <td>9246451</td>\n",
       "    </tr>\n",
       "    <tr>\n",
       "      <th>...</th>\n",
       "      <td>...</td>\n",
       "      <td>...</td>\n",
       "      <td>...</td>\n",
       "      <td>...</td>\n",
       "      <td>...</td>\n",
       "      <td>...</td>\n",
       "      <td>...</td>\n",
       "      <td>...</td>\n",
       "      <td>...</td>\n",
       "      <td>...</td>\n",
       "      <td>...</td>\n",
       "      <td>...</td>\n",
       "      <td>...</td>\n",
       "      <td>...</td>\n",
       "      <td>...</td>\n",
       "      <td>...</td>\n",
       "      <td>...</td>\n",
       "      <td>...</td>\n",
       "      <td>...</td>\n",
       "      <td>...</td>\n",
       "      <td>...</td>\n",
       "    </tr>\n",
       "    <tr>\n",
       "      <th>1076</th>\n",
       "      <td>2021-05-26</td>\n",
       "      <td>1304</td>\n",
       "      <td>台聚</td>\n",
       "      <td>3524822</td>\n",
       "      <td>19047000</td>\n",
       "      <td>-15522178</td>\n",
       "      <td>0</td>\n",
       "      <td>0</td>\n",
       "      <td>0</td>\n",
       "      <td>321000.0</td>\n",
       "      <td>...</td>\n",
       "      <td>89000.0</td>\n",
       "      <td>0.0</td>\n",
       "      <td>0.0</td>\n",
       "      <td>0.0</td>\n",
       "      <td>437000</td>\n",
       "      <td>61627</td>\n",
       "      <td>375373</td>\n",
       "      <td>3961822</td>\n",
       "      <td>19108627</td>\n",
       "      <td>-15146805</td>\n",
       "    </tr>\n",
       "    <tr>\n",
       "      <th>1077</th>\n",
       "      <td>2021-05-26</td>\n",
       "      <td>2344</td>\n",
       "      <td>華邦電</td>\n",
       "      <td>15044100</td>\n",
       "      <td>42994200</td>\n",
       "      <td>-27950100</td>\n",
       "      <td>3341000</td>\n",
       "      <td>0</td>\n",
       "      <td>3341000</td>\n",
       "      <td>1194025.0</td>\n",
       "      <td>...</td>\n",
       "      <td>-776000.0</td>\n",
       "      <td>0.0</td>\n",
       "      <td>0.0</td>\n",
       "      <td>0.0</td>\n",
       "      <td>1824025</td>\n",
       "      <td>2653066</td>\n",
       "      <td>-829041</td>\n",
       "      <td>20209125</td>\n",
       "      <td>45647266</td>\n",
       "      <td>-25438141</td>\n",
       "    </tr>\n",
       "    <tr>\n",
       "      <th>1078</th>\n",
       "      <td>2021-05-26</td>\n",
       "      <td>6116</td>\n",
       "      <td>彩晶</td>\n",
       "      <td>17168010</td>\n",
       "      <td>45235340</td>\n",
       "      <td>-28067330</td>\n",
       "      <td>543911</td>\n",
       "      <td>0</td>\n",
       "      <td>543911</td>\n",
       "      <td>2798000.0</td>\n",
       "      <td>...</td>\n",
       "      <td>-717300.0</td>\n",
       "      <td>0.0</td>\n",
       "      <td>0.0</td>\n",
       "      <td>0.0</td>\n",
       "      <td>3484000</td>\n",
       "      <td>4169743</td>\n",
       "      <td>-685743</td>\n",
       "      <td>21195921</td>\n",
       "      <td>49405083</td>\n",
       "      <td>-28209162</td>\n",
       "    </tr>\n",
       "    <tr>\n",
       "      <th>1079</th>\n",
       "      <td>2021-05-26</td>\n",
       "      <td>2303</td>\n",
       "      <td>聯電</td>\n",
       "      <td>21048000</td>\n",
       "      <td>73302182</td>\n",
       "      <td>-52254182</td>\n",
       "      <td>12836000</td>\n",
       "      <td>865000</td>\n",
       "      <td>11971000</td>\n",
       "      <td>9177000.0</td>\n",
       "      <td>...</td>\n",
       "      <td>-376237.0</td>\n",
       "      <td>0.0</td>\n",
       "      <td>0.0</td>\n",
       "      <td>0.0</td>\n",
       "      <td>10144400</td>\n",
       "      <td>8905637</td>\n",
       "      <td>1238763</td>\n",
       "      <td>44028400</td>\n",
       "      <td>83072819</td>\n",
       "      <td>-39044419</td>\n",
       "    </tr>\n",
       "    <tr>\n",
       "      <th>1080</th>\n",
       "      <td>2021-05-26</td>\n",
       "      <td>3481</td>\n",
       "      <td>群創</td>\n",
       "      <td>62598750</td>\n",
       "      <td>107473000</td>\n",
       "      <td>-44874250</td>\n",
       "      <td>1000000</td>\n",
       "      <td>12572000</td>\n",
       "      <td>-11572000</td>\n",
       "      <td>5629000.0</td>\n",
       "      <td>...</td>\n",
       "      <td>-2761000.0</td>\n",
       "      <td>0.0</td>\n",
       "      <td>0.0</td>\n",
       "      <td>0.0</td>\n",
       "      <td>7012000</td>\n",
       "      <td>8972398</td>\n",
       "      <td>-1960398</td>\n",
       "      <td>70610750</td>\n",
       "      <td>129017398</td>\n",
       "      <td>-58406648</td>\n",
       "    </tr>\n",
       "  </tbody>\n",
       "</table>\n",
       "<p>1978023 rows × 24 columns</p>\n",
       "</div>"
      ],
      "text/plain": [
       "             日期    代號   名稱     外資_買進      外資_賣出    外資_買賣超     投信_買進     投信_賣出  \\\n",
       "0    2012-05-02  2303   聯電  46911000   28499762  18411238   5707000         0   \n",
       "1    2012-05-02  2324   仁寶  18164000    3682000  14482000    980000         0   \n",
       "2    2012-05-02  2888  新光金  10855000    1624000   9231000     80000         0   \n",
       "3    2012-05-02  1216   統一   9534000    1743124   7790876   1942000    100000   \n",
       "4    2012-05-02  2891  中信金  15626000    7611326   8014674    736000         0   \n",
       "...         ...   ...  ...       ...        ...       ...       ...       ...   \n",
       "1076 2021-05-26  1304   台聚   3524822   19047000 -15522178         0         0   \n",
       "1077 2021-05-26  2344  華邦電  15044100   42994200 -27950100   3341000         0   \n",
       "1078 2021-05-26  6116   彩晶  17168010   45235340 -28067330    543911         0   \n",
       "1079 2021-05-26  2303   聯電  21048000   73302182 -52254182  12836000    865000   \n",
       "1080 2021-05-26  3481   群創  62598750  107473000 -44874250   1000000  12572000   \n",
       "\n",
       "        投信_買賣超  自營商_自行買賣_買進  ...  自營商_避險_買賣超  自營商_外資_買進  自營商_外資_賣出  \\\n",
       "0      5707000          NaN  ...         NaN        NaN        NaN   \n",
       "1       980000          NaN  ...         NaN        NaN        NaN   \n",
       "2        80000          NaN  ...         NaN        NaN        NaN   \n",
       "3      1842000          NaN  ...         NaN        NaN        NaN   \n",
       "4       736000          NaN  ...         NaN        NaN        NaN   \n",
       "...        ...          ...  ...         ...        ...        ...   \n",
       "1076         0     321000.0  ...     89000.0        0.0        0.0   \n",
       "1077   3341000    1194025.0  ...   -776000.0        0.0        0.0   \n",
       "1078    543911    2798000.0  ...   -717300.0        0.0        0.0   \n",
       "1079  11971000    9177000.0  ...   -376237.0        0.0        0.0   \n",
       "1080 -11572000    5629000.0  ...  -2761000.0        0.0        0.0   \n",
       "\n",
       "      自營商_外資_買賣超    自營商_買進   自營商_賣出  自營商_買賣超   三大法人_買進    三大法人_賣出  三大法人_買賣超  \n",
       "0            NaN    648000     2000   646000  53266000   28501762  24764238  \n",
       "1            NaN    554000   139000   415000  19698000    3821000  15877000  \n",
       "2            NaN    891000    97000   794000  11826000    1721000  10105000  \n",
       "3            NaN    210000   130000    80000  11686000    1973124   9712876  \n",
       "4            NaN    956000   460223   495777  17318000    8071549   9246451  \n",
       "...          ...       ...      ...      ...       ...        ...       ...  \n",
       "1076         0.0    437000    61627   375373   3961822   19108627 -15146805  \n",
       "1077         0.0   1824025  2653066  -829041  20209125   45647266 -25438141  \n",
       "1078         0.0   3484000  4169743  -685743  21195921   49405083 -28209162  \n",
       "1079         0.0  10144400  8905637  1238763  44028400   83072819 -39044419  \n",
       "1080         0.0   7012000  8972398 -1960398  70610750  129017398 -58406648  \n",
       "\n",
       "[1978023 rows x 24 columns]"
      ]
     },
     "execution_count": 24,
     "metadata": {},
     "output_type": "execute_result"
    }
   ],
   "source": [
    "table"
   ]
  }
 ],
 "metadata": {
  "kernelspec": {
   "display_name": "Python 3",
   "language": "python",
   "name": "python3"
  },
  "language_info": {
   "codemirror_mode": {
    "name": "ipython",
    "version": 3
   },
   "file_extension": ".py",
   "mimetype": "text/x-python",
   "name": "python",
   "nbconvert_exporter": "python",
   "pygments_lexer": "ipython3",
   "version": "3.8.3"
  }
 },
 "nbformat": 4,
 "nbformat_minor": 5
}
