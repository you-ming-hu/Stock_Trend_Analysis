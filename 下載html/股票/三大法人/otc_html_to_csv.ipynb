{
 "cells": [
  {
   "cell_type": "code",
   "execution_count": 1,
   "id": "724cee55",
   "metadata": {},
   "outputs": [],
   "source": [
    "import pathlib\n",
    "from bs4 import BeautifulSoup\n",
    "from IPython.display import clear_output\n",
    "import pandas as pd\n",
    "import datetime\n",
    "import pickle"
   ]
  },
  {
   "cell_type": "code",
   "execution_count": 4,
   "id": "a01a1a30",
   "metadata": {},
   "outputs": [],
   "source": [
    "root = pathlib.Path('D:\\股票網頁\\股票\\三大法人')\n",
    "otc = root.joinpath('上櫃')"
   ]
  },
  {
   "cell_type": "code",
   "execution_count": 10,
   "id": "4e990a4c",
   "metadata": {},
   "outputs": [
    {
     "name": "stdout",
     "output_type": "stream",
     "text": [
      "2017-03-29.html\tO!=A!=B\n",
      "2017-03-30.html\tO!=A!=B\n",
      "2017-03-31.html\tO!=A!=B\n",
      "2017-04-01.html\tO!=A!=B\n",
      "2017-04-02.html\tO!=A!=B\n",
      "2017-04-03.html\tO!=A!=B\n",
      "2017-04-04.html\tO!=A!=B\n",
      "2017-04-05.html\tO!=A!=B\n",
      "2017-04-06.html\tO!=A!=B\n",
      "2017-04-07.html\tO!=A!=B\n",
      "2017-04-10.html\tO!=A!=B\n"
     ]
    }
   ],
   "source": [
    "otc = root.joinpath('上櫃')\n",
    "otc = sorted(otc.glob('*.html'))\n",
    "diff_pair = [(i,i.with_suffix('.A.diff.html'),i.with_suffix('.B.diff.html')) for i in otc if i.with_suffix('.A.diff.html').exists()]\n",
    "for diff in diff_pair:\n",
    "    print(diff[0].name,end='\\t')\n",
    "    O = diff[0].read_text(encoding='utf8')\n",
    "    A = diff[1].read_text(encoding='utf8')\n",
    "    B = diff[2].read_text(encoding='utf8')\n",
    "    if O == A:\n",
    "        diff[1].unlink()\n",
    "        diff[2].unlink()\n",
    "        print('O==A')\n",
    "    elif O == B:\n",
    "        diff[1].unlink()\n",
    "        diff[2].unlink()\n",
    "        print('O==B')\n",
    "    elif A == B:\n",
    "        diff[0].unlink()\n",
    "        diff[2].unlink()\n",
    "        diff[1].rename(diff[0])\n",
    "        print('A==B')\n",
    "    else:\n",
    "        try:\n",
    "            diff[0].rename(diff[0].with_suffix('.C.diff.html'))\n",
    "        except FileExistsError:\n",
    "            pass\n",
    "        print('O!=A!=B')"
   ]
  },
  {
   "cell_type": "code",
   "execution_count": 12,
   "id": "c2ec627b",
   "metadata": {},
   "outputs": [
    {
     "name": "stdout",
     "output_type": "stream",
     "text": [
      "2017-03-29.html\tO==C\n",
      "2017-03-30.html\tO==C\n",
      "2017-03-31.html\tO==C\n",
      "2017-04-01.html\tO==C\n",
      "2017-04-02.html\tO==C\n",
      "2017-04-03.html\tO==C\n",
      "2017-04-04.html\tO==C\n",
      "2017-04-05.html\tO==C\n",
      "2017-04-06.html\tO==C\n",
      "2017-04-07.html\tO==C\n",
      "2017-04-10.html\tO==C\n"
     ]
    }
   ],
   "source": [
    "otc = root.joinpath('上櫃')\n",
    "otc = sorted(otc.glob('*.html'))\n",
    "diff_pair = [(i,i.with_suffix('.A.diff.html'),i.with_suffix('.B.diff.html'),i.with_suffix('.C.diff.html')) for i in otc if i.with_suffix('.A.diff.html').exists()]\n",
    "for diff in diff_pair:\n",
    "    print(diff[0].name,end='\\t')\n",
    "    O = diff[0].read_text(encoding='utf8')\n",
    "    A = diff[1].read_text(encoding='utf8')\n",
    "    B = diff[2].read_text(encoding='utf8')\n",
    "    C = diff[3].read_text(encoding='utf8')\n",
    "    if O == A:\n",
    "        diff[1].unlink()\n",
    "        diff[2].unlink()\n",
    "        diff[3].unlink()\n",
    "        print('O==A')\n",
    "    elif O == B:\n",
    "        diff[1].unlink()\n",
    "        diff[2].unlink()\n",
    "        diff[3].unlink()\n",
    "        print('O==B')\n",
    "    elif O == C:\n",
    "        diff[1].unlink()\n",
    "        diff[2].unlink()\n",
    "        diff[3].unlink()\n",
    "        print('O==C')\n",
    "    else:\n",
    "        print('O!=A!=B!=C')"
   ]
  },
  {
   "cell_type": "code",
   "execution_count": 3,
   "id": "0b519c30",
   "metadata": {},
   "outputs": [],
   "source": [
    "otc = sorted(otc.iterdir())\n",
    "otc = [o.with_suffix('').name for o in otc if '共0筆' not in o.read_text(encoding='utf8')]"
   ]
  },
  {
   "cell_type": "code",
   "execution_count": 2,
   "id": "ab81c320",
   "metadata": {},
   "outputs": [],
   "source": [
    "import pandas as pd\n",
    "import pickle"
   ]
  },
  {
   "cell_type": "code",
   "execution_count": 5,
   "id": "1e916ed6",
   "metadata": {},
   "outputs": [],
   "source": [
    "with open('BusinessDates.idx','rb') as f:\n",
    "    business_dates = pickle.load(f)"
   ]
  },
  {
   "cell_type": "code",
   "execution_count": 8,
   "id": "2e69d36d",
   "metadata": {},
   "outputs": [],
   "source": [
    "business_dates = business_dates[(business_dates>='2007-04-23')&(business_dates<='2021-05-26')]"
   ]
  },
  {
   "cell_type": "code",
   "execution_count": 9,
   "id": "1106b322",
   "metadata": {},
   "outputs": [
    {
     "data": {
      "text/plain": [
       "DatetimeIndex([], dtype='datetime64[ns]', freq=None)"
      ]
     },
     "execution_count": 9,
     "metadata": {},
     "output_type": "execute_result"
    }
   ],
   "source": [
    "business_dates.difference(pd.DatetimeIndex(otc))"
   ]
  },
  {
   "cell_type": "code",
   "execution_count": 10,
   "id": "f783b223",
   "metadata": {},
   "outputs": [
    {
     "data": {
      "text/plain": [
       "DatetimeIndex([], dtype='datetime64[ns]', freq=None)"
      ]
     },
     "execution_count": 10,
     "metadata": {},
     "output_type": "execute_result"
    }
   ],
   "source": [
    "pd.DatetimeIndex(otc).difference(business_dates)"
   ]
  },
  {
   "cell_type": "code",
   "execution_count": 11,
   "id": "b4421375",
   "metadata": {},
   "outputs": [
    {
     "data": {
      "text/plain": [
       "DatetimeIndex(['2007-04-23', '2007-04-24', '2007-04-25', '2007-04-26',\n",
       "               '2007-04-27', '2007-04-30', '2007-05-02', '2007-05-03',\n",
       "               '2007-05-04', '2007-05-07',\n",
       "               ...\n",
       "               '2021-05-13', '2021-05-14', '2021-05-17', '2021-05-18',\n",
       "               '2021-05-19', '2021-05-20', '2021-05-21', '2021-05-24',\n",
       "               '2021-05-25', '2021-05-26'],\n",
       "              dtype='datetime64[ns]', length=3478, freq=None)"
      ]
     },
     "execution_count": 11,
     "metadata": {},
     "output_type": "execute_result"
    }
   ],
   "source": [
    "pd.DatetimeIndex(otc)"
   ]
  },
  {
   "cell_type": "code",
   "execution_count": 12,
   "id": "3660b22f",
   "metadata": {},
   "outputs": [
    {
     "data": {
      "text/plain": [
       "DatetimeIndex(['2007-04-23', '2007-04-24', '2007-04-25', '2007-04-26',\n",
       "               '2007-04-27', '2007-04-30', '2007-05-02', '2007-05-03',\n",
       "               '2007-05-04', '2007-05-07',\n",
       "               ...\n",
       "               '2021-05-13', '2021-05-14', '2021-05-17', '2021-05-18',\n",
       "               '2021-05-19', '2021-05-20', '2021-05-21', '2021-05-24',\n",
       "               '2021-05-25', '2021-05-26'],\n",
       "              dtype='datetime64[ns]', length=3478, freq=None)"
      ]
     },
     "execution_count": 12,
     "metadata": {},
     "output_type": "execute_result"
    }
   ],
   "source": [
    "business_dates"
   ]
  },
  {
   "cell_type": "code",
   "execution_count": 24,
   "id": "7c8c239b",
   "metadata": {},
   "outputs": [
    {
     "name": "stdout",
     "output_type": "stream",
     "text": [
      "D:/股票網頁/股票/三大法人/上櫃/2021-05-26.html\t"
     ]
    }
   ],
   "source": [
    "otc = root.joinpath('上櫃')\n",
    "otc = sorted(otc.glob('*.html'))\n",
    "record = {}\n",
    "for f in otc:\n",
    "    print(f.as_posix(),end='\\t')\n",
    "    table =  f.read_text('utf8')\n",
    "    if '共0筆' in table:\n",
    "        clear_output(wait=True)\n",
    "        continue\n",
    "    table = pd.read_html(table)[0]\n",
    "    date = pd.Timestamp(f.with_suffix('').name)\n",
    "    assert date.strftime(f'{date.year-1911}年%m月%d日') in table.columns.levels[0][0]\n",
    "    record.setdefault(tuple(table.columns.droplevel(0)),f)\n",
    "    clear_output(wait=True)"
   ]
  },
  {
   "cell_type": "code",
   "execution_count": 25,
   "id": "7cff15a9",
   "metadata": {},
   "outputs": [
    {
     "data": {
      "text/plain": [
       "{('代號',\n",
       "  '名稱',\n",
       "  '外資及陸資買股數',\n",
       "  '外資及陸資賣股數',\n",
       "  '外資及陸資淨買股數',\n",
       "  '投信買進股數',\n",
       "  '投信賣股數',\n",
       "  '投信淨買股數',\n",
       "  '自營商買股數',\n",
       "  '自營商賣股數',\n",
       "  '自營淨買股數',\n",
       "  '三大法人買賣超股數'): WindowsPath('D:/股票網頁/股票/三大法人/上櫃/2007-04-23.html'),\n",
       " ('代號',\n",
       "  '名稱',\n",
       "  '外資及陸資買股數',\n",
       "  '外資及陸資賣股數',\n",
       "  '外資及陸資淨買股數',\n",
       "  '投信買股數',\n",
       "  '投信賣股數',\n",
       "  '投信淨買股數',\n",
       "  '自營商淨買股數',\n",
       "  '自營商(自行買賣)買股數',\n",
       "  '自營商(自行買賣)賣股數',\n",
       "  '自營商(自行買賣)淨買股數',\n",
       "  '自營商(避險)買股數',\n",
       "  '自營商(避險)賣股數',\n",
       "  '自營商(避險)淨買股數',\n",
       "  '三大法人買賣超股數',\n",
       "  'Unnamed: 16_level_1'): WindowsPath('D:/股票網頁/股票/三大法人/上櫃/2014-12-01.html'),\n",
       " (('代號', '代號'),\n",
       "  ('名稱', '名稱'),\n",
       "  ('外資及陸資(不含外資自營商)', '買進股數'),\n",
       "  ('外資及陸資(不含外資自營商)', '賣出股數'),\n",
       "  ('外資及陸資(不含外資自營商)', '買賣超股數'),\n",
       "  ('外資自營商', '買進股數'),\n",
       "  ('外資自營商', '賣出股數'),\n",
       "  ('外資自營商', '買賣超股數'),\n",
       "  ('外資及陸資', '買進股數'),\n",
       "  ('外資及陸資', '賣出股數'),\n",
       "  ('外資及陸資', '買賣超股數'),\n",
       "  ('投信', '買進股數'),\n",
       "  ('投信', '賣出股數'),\n",
       "  ('投信', '買賣超股數'),\n",
       "  ('自營商(自行買賣)', '買進股數'),\n",
       "  ('自營商(自行買賣)', '賣出股數'),\n",
       "  ('自營商(自行買賣)', '買賣超股數'),\n",
       "  ('自營商(避險)', '買進股數'),\n",
       "  ('自營商(避險)', '賣出股數'),\n",
       "  ('自營商(避險)', '買賣超股數'),\n",
       "  ('自營商', '買進股數'),\n",
       "  ('自營商', '賣出股數'),\n",
       "  ('自營商', '買賣超股數'),\n",
       "  ('三大法人買賣超股數合計', '三大法人買賣超股數合計'),\n",
       "  ('Unnamed: 24_level_1',\n",
       "   'Unnamed: 24_level_2')): WindowsPath('D:/股票網頁/股票/三大法人/上櫃/2018-01-15.html')}"
      ]
     },
     "execution_count": 25,
     "metadata": {},
     "output_type": "execute_result"
    }
   ],
   "source": [
    "record"
   ]
  },
  {
   "cell_type": "code",
   "execution_count": 5,
   "id": "45dcaa30",
   "metadata": {},
   "outputs": [
    {
     "name": "stdout",
     "output_type": "stream",
     "text": [
      "D:/股票網頁/股票/三大法人/上櫃/2014-11-28.html\n"
     ]
    }
   ],
   "source": [
    "first_table = pd.DataFrame()\n",
    "\n",
    "for date in pd.date_range('2007-04-23','2014-11-28'):\n",
    "    html = root.joinpath('上櫃',date.strftime('%Y-%m-%d.html'))\n",
    "    print(html.as_posix())\n",
    "    table =  html.read_text('utf8')\n",
    "    if '共0筆' in table:\n",
    "        clear_output(wait=True)\n",
    "        continue\n",
    "    else:\n",
    "        table = BeautifulSoup(table)\n",
    "        table.find('tfoot').decompose()\n",
    "        table = pd.read_html(table.prettify())[0]\n",
    "        table.columns = table.columns.droplevel(0)\n",
    "        table['日期'] = date\n",
    "        first_table = first_table.append(table)\n",
    "        clear_output(wait=True)"
   ]
  },
  {
   "cell_type": "code",
   "execution_count": 37,
   "id": "d6764af9",
   "metadata": {},
   "outputs": [
    {
     "data": {
      "text/plain": [
       "代號                   object\n",
       "名稱                   object\n",
       "外資及陸資買股數              int64\n",
       "外資及陸資賣股數              int64\n",
       "外資及陸資淨買股數             int64\n",
       "投信買進股數                int64\n",
       "投信賣股數                 int64\n",
       "投信淨買股數                int64\n",
       "自營商買股數                int64\n",
       "自營商賣股數                int64\n",
       "自營淨買股數                int64\n",
       "三大法人買賣超股數             int64\n",
       "日期           datetime64[ns]\n",
       "dtype: object"
      ]
     },
     "execution_count": 37,
     "metadata": {},
     "output_type": "execute_result"
    }
   ],
   "source": [
    "first_table.dtypes"
   ]
  },
  {
   "cell_type": "code",
   "execution_count": 40,
   "id": "995ff2d7",
   "metadata": {},
   "outputs": [
    {
     "data": {
      "text/plain": [
       "Index(['代號', '名稱', '外資及陸資買股數', '外資及陸資賣股數', '外資及陸資淨買股數', '投信買進股數', '投信賣股數',\n",
       "       '投信淨買股數', '自營商買股數', '自營商賣股數', '自營淨買股數', '三大法人買賣超股數', '日期'],\n",
       "      dtype='object')"
      ]
     },
     "execution_count": 40,
     "metadata": {},
     "output_type": "execute_result"
    }
   ],
   "source": [
    "first_table.columns"
   ]
  },
  {
   "cell_type": "code",
   "execution_count": 41,
   "id": "220a9885",
   "metadata": {},
   "outputs": [],
   "source": [
    "first_table = first_table.rename({'外資及陸資買股數':'外資_買進',\n",
    "                                  '外資及陸資賣股數':'外資_賣出',\n",
    "                                  '外資及陸資淨買股數':'外資_買賣超',\n",
    "                                  '投信買進股數':'投信_買進',\n",
    "                                  '投信賣股數':'投信_賣出',\n",
    "                                  '投信淨買股數':'投信_買賣超',\n",
    "                                  '自營商買股數':'自營商_買進',\n",
    "                                  '自營商賣股數':'自營商_賣出',\n",
    "                                  '自營淨買股數':'自營商_買賣超',\n",
    "                                  '三大法人買賣超股數':'三大法人_買賣超'\n",
    "                                 },axis=1)"
   ]
  },
  {
   "cell_type": "code",
   "execution_count": 43,
   "id": "941ad914",
   "metadata": {},
   "outputs": [
    {
     "data": {
      "text/plain": [
       "Index(['代號', '名稱', '外資_買進', '外資_賣出', '外資_買賣超', '投信_買進', '投信_賣出', '投信_買賣超',\n",
       "       '自營商_買進', '自營商_賣出', '自營商_買賣超', '三大法人_買賣超', '日期'],\n",
       "      dtype='object')"
      ]
     },
     "execution_count": 43,
     "metadata": {},
     "output_type": "execute_result"
    }
   ],
   "source": [
    "first_table.columns"
   ]
  },
  {
   "cell_type": "code",
   "execution_count": 13,
   "id": "3f1dd0bd",
   "metadata": {},
   "outputs": [
    {
     "name": "stdout",
     "output_type": "stream",
     "text": [
      "D:/股票網頁/股票/三大法人/上櫃/2018-01-14.html\n"
     ]
    }
   ],
   "source": [
    "second_table = pd.DataFrame()\n",
    "\n",
    "for date in pd.date_range('2014-12-01','2018-01-14'):\n",
    "    html = root.joinpath('上櫃',date.strftime('%Y-%m-%d.html'))\n",
    "    print(html.as_posix())\n",
    "    table =  html.read_text('utf8')\n",
    "    if '共0筆' in table:\n",
    "        clear_output(wait=True)\n",
    "        continue\n",
    "    else:\n",
    "        table = BeautifulSoup(table)\n",
    "        table.find('tfoot').decompose()\n",
    "        table = pd.read_html(table.prettify())[0]\n",
    "        table.columns = table.columns.droplevel(0)\n",
    "        table['日期'] = date\n",
    "        second_table = second_table.append(table)\n",
    "        clear_output(wait=True)"
   ]
  },
  {
   "cell_type": "code",
   "execution_count": 20,
   "id": "17740873",
   "metadata": {},
   "outputs": [],
   "source": [
    "second_table = second_table.drop('Unnamed: 16_level_1',axis=1)"
   ]
  },
  {
   "cell_type": "code",
   "execution_count": 38,
   "id": "79fc776f",
   "metadata": {},
   "outputs": [
    {
     "data": {
      "text/plain": [
       "代號                           object\n",
       "名稱                           object\n",
       "外資  及陸資  買股數                  int64\n",
       "外資  及陸資  賣股數                  int64\n",
       "外資  及陸資  淨買股數                 int64\n",
       "投信  買股數                       int64\n",
       "投信  賣股數                       int64\n",
       "投信  淨買股數                      int64\n",
       "自營商  淨買股數                     int64\n",
       "自營商  (自行買賣)  買股數              int64\n",
       "自營商  (自行買賣)  賣股數              int64\n",
       "自營商  (自行買賣)  淨買股數             int64\n",
       "自營商  (避險)  買股數                int64\n",
       "自營商  (避險)  賣股數                int64\n",
       "自營商  (避險)  淨買股數               int64\n",
       "三大法人  買賣超股數                   int64\n",
       "日期                   datetime64[ns]\n",
       "dtype: object"
      ]
     },
     "execution_count": 38,
     "metadata": {},
     "output_type": "execute_result"
    }
   ],
   "source": [
    "second_table.dtypes"
   ]
  },
  {
   "cell_type": "code",
   "execution_count": 44,
   "id": "0b6855be",
   "metadata": {},
   "outputs": [
    {
     "data": {
      "text/plain": [
       "Index(['代號', '名稱', '外資  及陸資  買股數', '外資  及陸資  賣股數', '外資  及陸資  淨買股數', '投信  買股數',\n",
       "       '投信  賣股數', '投信  淨買股數', '自營商  淨買股數', '自營商  (自行買賣)  買股數',\n",
       "       '自營商  (自行買賣)  賣股數', '自營商  (自行買賣)  淨買股數', '自營商  (避險)  買股數',\n",
       "       '自營商  (避險)  賣股數', '自營商  (避險)  淨買股數', '三大法人  買賣超股數', '日期'],\n",
       "      dtype='object')"
      ]
     },
     "execution_count": 44,
     "metadata": {},
     "output_type": "execute_result"
    }
   ],
   "source": [
    "second_table.columns"
   ]
  },
  {
   "cell_type": "code",
   "execution_count": 45,
   "id": "9de90169",
   "metadata": {},
   "outputs": [
    {
     "data": {
      "text/plain": [
       "Index(['代號', '名稱', '外資_買進', '外資_賣出', '外資_買賣超', '投信_買進', '投信_賣出', '投信_買賣超',\n",
       "       '自營商_買賣超', '自營商_自行買賣_買進', '自營商_自行買賣_賣出', '自營商_自行買賣_買賣超', '自營商_避險_買進',\n",
       "       '自營商_避險_賣出', '自營商_避險_買賣超', '三大法人_買賣超', '日期', '自營商_買進', '自營商_賣出'],\n",
       "      dtype='object')"
      ]
     },
     "execution_count": 45,
     "metadata": {},
     "output_type": "execute_result"
    }
   ],
   "source": [
    "second_table = second_table.rename({'外資  及陸資  買股數':'外資_買進',\n",
    "                                    '外資  及陸資  賣股數':'外資_賣出',\n",
    "                                    '外資  及陸資  淨買股數':'外資_買賣超',\n",
    "                                    '投信  買股數':'投信_買進',\n",
    "                                    '投信  賣股數':'投信_賣出',\n",
    "                                    '投信  淨買股數':'投信_買賣超',\n",
    "                                    '自營商  淨買股數':'自營商_買賣超',\n",
    "                                    '自營商  (自行買賣)  買股數':'自營商_自行買賣_買進',\n",
    "                                    '自營商  (自行買賣)  賣股數':'自營商_自行買賣_賣出',\n",
    "                                    '自營商  (自行買賣)  淨買股數':'自營商_自行買賣_買賣超',\n",
    "                                    '自營商  (避險)  買股數':'自營商_避險_買進',\n",
    "                                    '自營商  (避險)  賣股數':'自營商_避險_賣出',\n",
    "                                    '自營商  (避險)  淨買股數':'自營商_避險_買賣超',\n",
    "                                    '三大法人  買賣超股數':'三大法人_買賣超'},\n",
    "                                   axis=1)\n",
    "\n",
    "second_table['自營商_買進'] = second_table['自營商_自行買賣_買進'] + second_table['自營商_避險_買進']\n",
    "second_table['自營商_賣出'] = second_table['自營商_自行買賣_賣出'] + second_table['自營商_避險_賣出']\n",
    "\n",
    "second_table.columns"
   ]
  },
  {
   "cell_type": "code",
   "execution_count": 16,
   "id": "e9370131",
   "metadata": {},
   "outputs": [
    {
     "name": "stdout",
     "output_type": "stream",
     "text": [
      "D:/股票網頁/股票/三大法人/上櫃/2021-05-26.html\n"
     ]
    }
   ],
   "source": [
    "third_table = pd.DataFrame()\n",
    "\n",
    "for date in pd.date_range('2018-01-15','2021-05-26'):\n",
    "    html = root.joinpath('上櫃',date.strftime('%Y-%m-%d.html'))\n",
    "    print(html.as_posix())\n",
    "    table =  html.read_text('utf8')\n",
    "    if '共0筆' in table:\n",
    "        clear_output(wait=True)\n",
    "        continue\n",
    "    else:\n",
    "        table = BeautifulSoup(table)\n",
    "        table.find('tfoot').decompose()\n",
    "        table = pd.read_html(table.prettify())[0]\n",
    "        table.columns = table.columns.droplevel(0)\n",
    "        table['日期'] = date\n",
    "        third_table = third_table.append(table)\n",
    "        clear_output(wait=True)"
   ]
  },
  {
   "cell_type": "code",
   "execution_count": 33,
   "id": "8a0d813d",
   "metadata": {},
   "outputs": [],
   "source": [
    "third_table.columns = [i+j if i!=j else i for i,j in third_table.columns]"
   ]
  },
  {
   "cell_type": "code",
   "execution_count": 35,
   "id": "07f46473",
   "metadata": {},
   "outputs": [],
   "source": [
    "third_table = third_table.drop('Unnamed: 24_level_1Unnamed: 24_level_2',axis=1)"
   ]
  },
  {
   "cell_type": "code",
   "execution_count": 39,
   "id": "e7c54415",
   "metadata": {},
   "outputs": [
    {
     "data": {
      "text/plain": [
       "代號                             object\n",
       "名稱                             object\n",
       "外資及陸資(不含外資自營商)買進股數              int64\n",
       "外資及陸資(不含外資自營商)賣出股數              int64\n",
       "外資及陸資(不含外資自營商)買賣超股數             int64\n",
       "外資自營商買進股數                       int64\n",
       "外資自營商賣出股數                       int64\n",
       "外資自營商買賣超股數                      int64\n",
       "外資及陸資買進股數                       int64\n",
       "外資及陸資賣出股數                       int64\n",
       "外資及陸資買賣超股數                      int64\n",
       "投信買進股數                          int64\n",
       "投信賣出股數                          int64\n",
       "投信買賣超股數                         int64\n",
       "自營商(自行買賣)買進股數                   int64\n",
       "自營商(自行買賣)賣出股數                   int64\n",
       "自營商(自行買賣)買賣超股數                  int64\n",
       "自營商(避險)買進股數                     int64\n",
       "自營商(避險)賣出股數                     int64\n",
       "自營商(避險)買賣超股數                    int64\n",
       "自營商買進股數                         int64\n",
       "自營商賣出股數                         int64\n",
       "自營商買賣超股數                        int64\n",
       "三大法人買賣超  股數合計                   int64\n",
       "日期                     datetime64[ns]\n",
       "dtype: object"
      ]
     },
     "execution_count": 39,
     "metadata": {},
     "output_type": "execute_result"
    }
   ],
   "source": [
    "third_table.dtypes"
   ]
  },
  {
   "cell_type": "code",
   "execution_count": 46,
   "id": "9705695f",
   "metadata": {},
   "outputs": [
    {
     "data": {
      "text/plain": [
       "Index(['代號', '名稱', '外資及陸資(不含外資自營商)買進股數', '外資及陸資(不含外資自營商)賣出股數',\n",
       "       '外資及陸資(不含外資自營商)買賣超股數', '外資自營商買進股數', '外資自營商賣出股數', '外資自營商買賣超股數',\n",
       "       '外資及陸資買進股數', '外資及陸資賣出股數', '外資及陸資買賣超股數', '投信買進股數', '投信賣出股數', '投信買賣超股數',\n",
       "       '自營商(自行買賣)買進股數', '自營商(自行買賣)賣出股數', '自營商(自行買賣)買賣超股數', '自營商(避險)買進股數',\n",
       "       '自營商(避險)賣出股數', '自營商(避險)買賣超股數', '自營商買進股數', '自營商賣出股數', '自營商買賣超股數',\n",
       "       '三大法人買賣超  股數合計', '日期'],\n",
       "      dtype='object')"
      ]
     },
     "execution_count": 46,
     "metadata": {},
     "output_type": "execute_result"
    }
   ],
   "source": [
    "third_table.columns"
   ]
  },
  {
   "cell_type": "code",
   "execution_count": null,
   "id": "24985877",
   "metadata": {},
   "outputs": [],
   "source": [
    "third_table = third_table.rename({'外資及陸資(不含外資自營商)買進股數':'外資_買進',\n",
    "                                  '外資及陸資(不含外資自營商)賣出股數':'外資_賣出',\n",
    "                                  '外資及陸資(不含外資自營商)買賣超股數':'外資_買賣超',\n",
    "                                  '外資自營商買進股數':'自營商_外資_買進',\n",
    "                                  '外資自營商賣出股數':'自營商_外資_賣出',\n",
    "                                  '外資自營商買賣超股數':'自營商_外資_買賣超',\n",
    "                                  '外資及陸資買進股數':',\n",
    "                                  '外資及陸資賣出股數',\n",
    "                                  '外資及陸資買賣超股數',\n",
    "                                  '投信買進股數',\n",
    "                                  '投信賣出股數',\n",
    "                                  '投信買賣超股數',\n",
    "                                  '自營商(自行買賣)買進股數',\n",
    "                                  '自營商(自行買賣)賣出股數',\n",
    "                                  '自營商(自行買賣)買賣超股數',\n",
    "                                  '自營商(避險)買進股數',\n",
    "                                  '自營商(避險)賣出股數',\n",
    "                                  '自營商(避險)買賣超股數',\n",
    "                                  '自營商買進股數',\n",
    "                                  '自營商賣出股數',\n",
    "                                  '自營商買賣超股數',\n",
    "                                  '三大法人買賣超  股數合計'},\n",
    "                                 axis=1)"
   ]
  },
  {
   "cell_type": "code",
   "execution_count": null,
   "id": "24a66cd4",
   "metadata": {},
   "outputs": [],
   "source": [
    "table['三大法人買進'] = table['外資買進股數'] + table['投信買進股數'] + table['自營商買進股數']\n",
    "table['三大法人賣出'] = table['外資賣出股數'] + table['投信賣出股數'] + table['自營商賣出股數']"
   ]
  }
 ],
 "metadata": {
  "kernelspec": {
   "display_name": "Python 3",
   "language": "python",
   "name": "python3"
  },
  "language_info": {
   "codemirror_mode": {
    "name": "ipython",
    "version": 3
   },
   "file_extension": ".py",
   "mimetype": "text/x-python",
   "name": "python",
   "nbconvert_exporter": "python",
   "pygments_lexer": "ipython3",
   "version": "3.8.3"
  }
 },
 "nbformat": 4,
 "nbformat_minor": 5
}
