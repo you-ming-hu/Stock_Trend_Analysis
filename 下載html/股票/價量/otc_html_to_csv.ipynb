{
 "cells": [
  {
   "cell_type": "code",
   "execution_count": 1,
   "metadata": {},
   "outputs": [],
   "source": [
    "import pathlib\n",
    "from bs4 import BeautifulSoup\n",
    "from IPython.display import clear_output\n",
    "import pandas as pd\n",
    "import datetime\n",
    "import pickle"
   ]
  },
  {
   "cell_type": "code",
   "execution_count": 3,
   "metadata": {},
   "outputs": [],
   "source": [
    "root = pathlib.Path('D:\\股票網頁\\股票\\價量')\n",
    "otc = root.joinpath('上櫃')"
   ]
  },
  {
   "cell_type": "code",
   "execution_count": 34,
   "metadata": {},
   "outputs": [
    {
     "name": "stdout",
     "output_type": "stream",
     "text": [
      "2007-04-20\n"
     ]
    }
   ],
   "source": [
    "titles=set()\n",
    "for date in pd.date_range('2007-01-02','2007-04-20'):\n",
    "    print(date.date())\n",
    "    text = otc.joinpath(str(date.date())).with_suffix('.html').read_text()\n",
    "    if text == '\\n\\n':\n",
    "        clear_output(wait=True)\n",
    "        continue\n",
    "    table = BeautifulSoup(text)\n",
    "    table.find('table').find('td').decompose()\n",
    "    titles.add(table.find('table'))\n",
    "    clear_output(wait=True)"
   ]
  },
  {
   "cell_type": "code",
   "execution_count": 37,
   "metadata": {},
   "outputs": [
    {
     "data": {
      "text/plain": [
       "1"
      ]
     },
     "execution_count": 37,
     "metadata": {},
     "output_type": "execute_result"
    }
   ],
   "source": [
    "len(titles)"
   ]
  },
  {
   "cell_type": "code",
   "execution_count": 38,
   "metadata": {},
   "outputs": [
    {
     "data": {
      "text/plain": [
       "{<table border=\"1\" cellpadding=\"0\" cellspacing=\"1\" id=\"headerTable\" summary=\"replace\">\n",
       " <tr> </tr>\n",
       " <tr><td class=\"table-head\" nowrap=\"\">代號</td><td class=\"table-head\" nowrap=\"\">名稱</td><td class=\"table-head\" nowrap=\"\">收盤 </td><td class=\"table-head\" nowrap=\"\">漲跌</td><td class=\"table-head\" nowrap=\"\">開盤 </td><td class=\"table-head\" nowrap=\"\">最高 </td><td class=\"table-head\" nowrap=\"\">最低</td><td class=\"table-head\" nowrap=\"\">成交股數  </td><td class=\"table-head\" nowrap=\"\">成交金額(元)</td><td class=\"table-head\" nowrap=\"\">成交<br/>筆數 </td><td class=\"table-head\" nowrap=\"\">最後<br/>買價</td><td class=\"table-head\" nowrap=\"\">最後<br/>賣價</td><td class=\"table-head\" nowrap=\"\">發行股數 </td><td class=\"table-head\" nowrap=\"\">次日<br/>漲停價 </td><td class=\"table-head\" nowrap=\"\">次日<br/>跌停價 </td></tr> </table>}"
      ]
     },
     "execution_count": 38,
     "metadata": {},
     "output_type": "execute_result"
    }
   ],
   "source": [
    "titles"
   ]
  },
  {
   "cell_type": "code",
   "execution_count": 23,
   "metadata": {},
   "outputs": [
    {
     "name": "stdout",
     "output_type": "stream",
     "text": [
      "2007-04-20\n"
     ]
    }
   ],
   "source": [
    "for date in pd.date_range('2007-01-02','2007-04-20'):\n",
    "    print(date.date())\n",
    "    text = otc.joinpath(str(date.date())).with_suffix('.html').read_text()\n",
    "    if text == '\\n\\n':\n",
    "        clear_output(wait=True)\n",
    "        continue\n",
    "    else:\n",
    "        assert date.strftime(f'{date.year-1911}年%m月%d日') in text\n",
    "        title,table = pd.read_html(text,converters={0:str})\n",
    "        table.columns = title.loc[1]\n",
    "        table.to_csv(root.joinpath('上櫃_csv',str(date.date())).with_suffix('.csv'),encoding='utf8',index=False)\n",
    "        clear_output(wait=True)"
   ]
  },
  {
   "cell_type": "code",
   "execution_count": 63,
   "metadata": {},
   "outputs": [
    {
     "name": "stdout",
     "output_type": "stream",
     "text": [
      "2007-06-29\n"
     ]
    }
   ],
   "source": [
    "titles = set()\n",
    "for date in pd.date_range('2007-04-23','2007-06-29'):\n",
    "    print(date.date())\n",
    "    text = otc.joinpath(str(date.date())).with_suffix('.html').read_text()\n",
    "    if text == '\\n\\n':\n",
    "        clear_output(wait=True)\n",
    "        continue\n",
    "    table = BeautifulSoup(text)\n",
    "    titles.add(table.find_all('table')[2].find('tr'))\n",
    "    clear_output(wait=True)"
   ]
  },
  {
   "cell_type": "code",
   "execution_count": 64,
   "metadata": {},
   "outputs": [
    {
     "data": {
      "text/plain": [
       "1"
      ]
     },
     "execution_count": 64,
     "metadata": {},
     "output_type": "execute_result"
    }
   ],
   "source": [
    "len(titles)"
   ]
  },
  {
   "cell_type": "code",
   "execution_count": 28,
   "metadata": {},
   "outputs": [
    {
     "name": "stdout",
     "output_type": "stream",
     "text": [
      "2007-06-29\n"
     ]
    }
   ],
   "source": [
    "for date in pd.date_range('2007-04-23','2007-06-29'):\n",
    "    print(date.date())\n",
    "    text = otc.joinpath(str(date.date())).with_suffix('.html').read_text()\n",
    "    if text == '\\n\\n':\n",
    "        clear_output(wait=True)\n",
    "        continue\n",
    "    else:\n",
    "        assert date.strftime(f'{date.year-1911}年%m月%d日') in text\n",
    "        table = pd.read_html(text,converters={'代號':str})[2]\n",
    "        table.to_csv(root.joinpath('上櫃_csv',str(date.date())).with_suffix('.csv'),encoding='utf8',index=False)\n",
    "        clear_output(wait=True)"
   ]
  },
  {
   "cell_type": "code",
   "execution_count": 72,
   "metadata": {},
   "outputs": [
    {
     "name": "stdout",
     "output_type": "stream",
     "text": [
      "2021-04-27\n"
     ]
    }
   ],
   "source": [
    "titles = set()\n",
    "for date in pd.date_range('2007-07-02','2021-04-27'):\n",
    "    print(date.date())\n",
    "    text = otc.joinpath(str(date.date())).with_suffix('.html').read_text('utf8')\n",
    "    if '共0筆' in  text:\n",
    "        clear_output(wait=True)\n",
    "        continue\n",
    "    else:\n",
    "        table = BeautifulSoup(text)\n",
    "        titles.add(table.find('table').find('thead').find_all('tr')[1])\n",
    "        clear_output(wait=True)"
   ]
  },
  {
   "cell_type": "code",
   "execution_count": 87,
   "metadata": {},
   "outputs": [
    {
     "data": {
      "text/plain": [
       "2"
      ]
     },
     "execution_count": 87,
     "metadata": {},
     "output_type": "execute_result"
    }
   ],
   "source": [
    "len(titles)"
   ]
  },
  {
   "cell_type": "code",
   "execution_count": 35,
   "metadata": {},
   "outputs": [
    {
     "name": "stdout",
     "output_type": "stream",
     "text": [
      "2021-05-26\n"
     ]
    }
   ],
   "source": [
    "for date in pd.date_range('2007-07-02','2021-05-26'):\n",
    "    print(date.date())\n",
    "    text = otc.joinpath(str(date.date())).with_suffix('.html').read_text('utf8')\n",
    "    if '共0筆' in  text:\n",
    "        clear_output(wait=True)\n",
    "        continue\n",
    "    else:\n",
    "        table = BeautifulSoup(text)\n",
    "        table.find('table').find('thead').find('tr').decompose()\n",
    "        table.find('table').find('tfoot').decompose()\n",
    "        table = pd.read_html(table.prettify(),converters={'代號':str})[0]\n",
    "        table.to_csv(root.joinpath('上櫃_csv',str(date.date())).with_suffix('.csv'),encoding='utf8',index=False)\n",
    "        clear_output(wait=True)"
   ]
  },
  {
   "cell_type": "code",
   "execution_count": 36,
   "metadata": {},
   "outputs": [],
   "source": [
    "otc_dates = pd.DatetimeIndex(x.with_suffix('').name for x in root.joinpath('上櫃_csv').glob('*.csv'))"
   ]
  },
  {
   "cell_type": "code",
   "execution_count": 31,
   "metadata": {},
   "outputs": [],
   "source": [
    "with open('BusinessDates.idx','rb') as f:\n",
    "    business_dates = pickle.load(f)"
   ]
  },
  {
   "cell_type": "code",
   "execution_count": 32,
   "metadata": {},
   "outputs": [],
   "source": [
    "business_dates = business_dates[(business_dates>='2007-01-02')&(business_dates<='2021-05-26')]"
   ]
  },
  {
   "cell_type": "code",
   "execution_count": 37,
   "metadata": {},
   "outputs": [
    {
     "data": {
      "text/plain": [
       "True"
      ]
     },
     "execution_count": 37,
     "metadata": {},
     "output_type": "execute_result"
    }
   ],
   "source": [
    "(business_dates == otc_dates).all()"
   ]
  },
  {
   "cell_type": "code",
   "execution_count": 48,
   "metadata": {},
   "outputs": [
    {
     "name": "stdout",
     "output_type": "stream",
     "text": [
      "D:/股票網頁/價量/上櫃_csv/2021-05-26.csv\n"
     ]
    }
   ],
   "source": [
    "data = pd.DataFrame()\n",
    "for csv in root.joinpath('上櫃_csv').glob('*.csv'):\n",
    "    print(csv.as_posix())\n",
    "    table = pd.read_csv(csv,encoding='utf8',dtype={'代號':str})\n",
    "    table['日期'] = csv.with_suffix('').name\n",
    "    data = data.append(table,sort=False)\n",
    "    clear_output(wait=True)"
   ]
  },
  {
   "cell_type": "code",
   "execution_count": 51,
   "metadata": {},
   "outputs": [],
   "source": [
    "# data.to_csv(root.joinpath('上櫃.csv'),encoding='utf8',index=False)"
   ]
  },
  {
   "cell_type": "code",
   "execution_count": 4,
   "metadata": {},
   "outputs": [],
   "source": [
    "data = pd.read_csv(root.joinpath('上櫃.csv'),encoding='utf8',index_col='代號',dtype=str)"
   ]
  },
  {
   "cell_type": "code",
   "execution_count": 5,
   "metadata": {},
   "outputs": [
    {
     "data": {
      "text/html": [
       "<div>\n",
       "<style scoped>\n",
       "    .dataframe tbody tr th:only-of-type {\n",
       "        vertical-align: middle;\n",
       "    }\n",
       "\n",
       "    .dataframe tbody tr th {\n",
       "        vertical-align: top;\n",
       "    }\n",
       "\n",
       "    .dataframe thead th {\n",
       "        text-align: right;\n",
       "    }\n",
       "</style>\n",
       "<table border=\"1\" class=\"dataframe\">\n",
       "  <thead>\n",
       "    <tr style=\"text-align: right;\">\n",
       "      <th></th>\n",
       "      <th>名稱</th>\n",
       "      <th>收盤</th>\n",
       "      <th>漲跌</th>\n",
       "      <th>開盤</th>\n",
       "      <th>最高</th>\n",
       "      <th>最低</th>\n",
       "      <th>成交股數</th>\n",
       "      <th>成交金額(元)</th>\n",
       "      <th>成交筆數</th>\n",
       "      <th>最後買價</th>\n",
       "      <th>最後賣價</th>\n",
       "      <th>發行股數</th>\n",
       "      <th>次日漲停價</th>\n",
       "      <th>次日跌停價</th>\n",
       "      <th>日期</th>\n",
       "      <th>最後買量(千股)</th>\n",
       "      <th>最後賣量(千股)</th>\n",
       "    </tr>\n",
       "    <tr>\n",
       "      <th>代號</th>\n",
       "      <th></th>\n",
       "      <th></th>\n",
       "      <th></th>\n",
       "      <th></th>\n",
       "      <th></th>\n",
       "      <th></th>\n",
       "      <th></th>\n",
       "      <th></th>\n",
       "      <th></th>\n",
       "      <th></th>\n",
       "      <th></th>\n",
       "      <th></th>\n",
       "      <th></th>\n",
       "      <th></th>\n",
       "      <th></th>\n",
       "      <th></th>\n",
       "      <th></th>\n",
       "    </tr>\n",
       "  </thead>\n",
       "  <tbody>\n",
       "    <tr>\n",
       "      <th>4205</th>\n",
       "      <td>恆義</td>\n",
       "      <td>18.30</td>\n",
       "      <td>+ 0.20</td>\n",
       "      <td>18.10</td>\n",
       "      <td>18.30</td>\n",
       "      <td>18.10</td>\n",
       "      <td>29000</td>\n",
       "      <td>527100</td>\n",
       "      <td>12</td>\n",
       "      <td>18.1</td>\n",
       "      <td>18.3</td>\n",
       "      <td>60086250</td>\n",
       "      <td>19.55</td>\n",
       "      <td>17.05</td>\n",
       "      <td>2007-01-02</td>\n",
       "      <td>NaN</td>\n",
       "      <td>NaN</td>\n",
       "    </tr>\n",
       "    <tr>\n",
       "      <th>4207</th>\n",
       "      <td>環泰</td>\n",
       "      <td>⊕ 11.05</td>\n",
       "      <td>+ 0.70</td>\n",
       "      <td>10.40</td>\n",
       "      <td>⊕ 11.05</td>\n",
       "      <td>10.20</td>\n",
       "      <td>445000</td>\n",
       "      <td>4647250</td>\n",
       "      <td>94</td>\n",
       "      <td>11.05</td>\n",
       "      <td>0.0</td>\n",
       "      <td>79335476</td>\n",
       "      <td>11.8</td>\n",
       "      <td>10.3</td>\n",
       "      <td>2007-01-02</td>\n",
       "      <td>NaN</td>\n",
       "      <td>NaN</td>\n",
       "    </tr>\n",
       "    <tr>\n",
       "      <th>4303</th>\n",
       "      <td>信立</td>\n",
       "      <td>2.58</td>\n",
       "      <td>- 0.08</td>\n",
       "      <td>2.69</td>\n",
       "      <td>2.70</td>\n",
       "      <td>2.58</td>\n",
       "      <td>723000</td>\n",
       "      <td>1893010</td>\n",
       "      <td>105</td>\n",
       "      <td>2.58</td>\n",
       "      <td>2.6</td>\n",
       "      <td>128639015</td>\n",
       "      <td>2.76</td>\n",
       "      <td>2.4</td>\n",
       "      <td>2007-01-02</td>\n",
       "      <td>NaN</td>\n",
       "      <td>NaN</td>\n",
       "    </tr>\n",
       "    <tr>\n",
       "      <th>4304</th>\n",
       "      <td>琨詰</td>\n",
       "      <td>⊕ 5.70</td>\n",
       "      <td>+ 0.37</td>\n",
       "      <td>5.40</td>\n",
       "      <td>⊕ 5.70</td>\n",
       "      <td>5.40</td>\n",
       "      <td>1311000</td>\n",
       "      <td>7464850</td>\n",
       "      <td>96</td>\n",
       "      <td>5.56</td>\n",
       "      <td>5.7</td>\n",
       "      <td>48295484</td>\n",
       "      <td>6.09</td>\n",
       "      <td>5.31</td>\n",
       "      <td>2007-01-02</td>\n",
       "      <td>NaN</td>\n",
       "      <td>NaN</td>\n",
       "    </tr>\n",
       "    <tr>\n",
       "      <th>4305</th>\n",
       "      <td>世坤</td>\n",
       "      <td>14.50</td>\n",
       "      <td>+ 0.20</td>\n",
       "      <td>14.35</td>\n",
       "      <td>14.65</td>\n",
       "      <td>14.35</td>\n",
       "      <td>26000</td>\n",
       "      <td>376300</td>\n",
       "      <td>10</td>\n",
       "      <td>14.5</td>\n",
       "      <td>14.6</td>\n",
       "      <td>55014000</td>\n",
       "      <td>15.5</td>\n",
       "      <td>13.5</td>\n",
       "      <td>2007-01-02</td>\n",
       "      <td>NaN</td>\n",
       "      <td>NaN</td>\n",
       "    </tr>\n",
       "    <tr>\n",
       "      <th>...</th>\n",
       "      <td>...</td>\n",
       "      <td>...</td>\n",
       "      <td>...</td>\n",
       "      <td>...</td>\n",
       "      <td>...</td>\n",
       "      <td>...</td>\n",
       "      <td>...</td>\n",
       "      <td>...</td>\n",
       "      <td>...</td>\n",
       "      <td>...</td>\n",
       "      <td>...</td>\n",
       "      <td>...</td>\n",
       "      <td>...</td>\n",
       "      <td>...</td>\n",
       "      <td>...</td>\n",
       "      <td>...</td>\n",
       "      <td>...</td>\n",
       "    </tr>\n",
       "    <tr>\n",
       "      <th>020014</th>\n",
       "      <td>元大富櫃200N</td>\n",
       "      <td>----</td>\n",
       "      <td>---</td>\n",
       "      <td>----</td>\n",
       "      <td>----</td>\n",
       "      <td>----</td>\n",
       "      <td>0</td>\n",
       "      <td>0</td>\n",
       "      <td>0</td>\n",
       "      <td>6.94</td>\n",
       "      <td>6.96</td>\n",
       "      <td>60000000</td>\n",
       "      <td>7.64</td>\n",
       "      <td>6.26</td>\n",
       "      <td>2021-05-26</td>\n",
       "      <td>100.0</td>\n",
       "      <td>100.0</td>\n",
       "    </tr>\n",
       "    <tr>\n",
       "      <th>020017</th>\n",
       "      <td>永豐富櫃200N</td>\n",
       "      <td>----</td>\n",
       "      <td>---</td>\n",
       "      <td>----</td>\n",
       "      <td>----</td>\n",
       "      <td>----</td>\n",
       "      <td>0</td>\n",
       "      <td>0</td>\n",
       "      <td>0</td>\n",
       "      <td>6.78</td>\n",
       "      <td>6.81</td>\n",
       "      <td>40000000</td>\n",
       "      <td>7.45</td>\n",
       "      <td>6.11</td>\n",
       "      <td>2021-05-26</td>\n",
       "      <td>200.0</td>\n",
       "      <td>150.0</td>\n",
       "    </tr>\n",
       "    <tr>\n",
       "      <th>020021</th>\n",
       "      <td>統一恒生科技N</td>\n",
       "      <td>10.01</td>\n",
       "      <td>+0.09</td>\n",
       "      <td>9.92</td>\n",
       "      <td>10.02</td>\n",
       "      <td>9.92</td>\n",
       "      <td>767000</td>\n",
       "      <td>7650360</td>\n",
       "      <td>110</td>\n",
       "      <td>10.01</td>\n",
       "      <td>10.02</td>\n",
       "      <td>100000000</td>\n",
       "      <td>9999.95</td>\n",
       "      <td>0.01</td>\n",
       "      <td>2021-05-26</td>\n",
       "      <td>4.0</td>\n",
       "      <td>537.0</td>\n",
       "    </tr>\n",
       "    <tr>\n",
       "      <th>020023</th>\n",
       "      <td>元大櫃買半導體N</td>\n",
       "      <td>5.69</td>\n",
       "      <td>-0.02</td>\n",
       "      <td>5.75</td>\n",
       "      <td>5.81</td>\n",
       "      <td>5.69</td>\n",
       "      <td>474000</td>\n",
       "      <td>2714490</td>\n",
       "      <td>93</td>\n",
       "      <td>5.69</td>\n",
       "      <td>5.7</td>\n",
       "      <td>200000000</td>\n",
       "      <td>6.25</td>\n",
       "      <td>5.13</td>\n",
       "      <td>2021-05-26</td>\n",
       "      <td>114.0</td>\n",
       "      <td>105.0</td>\n",
       "    </tr>\n",
       "    <tr>\n",
       "      <th>020024</th>\n",
       "      <td>兆豐富櫃200N</td>\n",
       "      <td>----</td>\n",
       "      <td>---</td>\n",
       "      <td>----</td>\n",
       "      <td>----</td>\n",
       "      <td>----</td>\n",
       "      <td>0</td>\n",
       "      <td>0</td>\n",
       "      <td>0</td>\n",
       "      <td>5.5</td>\n",
       "      <td>5.51</td>\n",
       "      <td>40000000</td>\n",
       "      <td>6.05</td>\n",
       "      <td>4.95</td>\n",
       "      <td>2021-05-26</td>\n",
       "      <td>499.0</td>\n",
       "      <td>499.0</td>\n",
       "    </tr>\n",
       "  </tbody>\n",
       "</table>\n",
       "<p>2791028 rows × 17 columns</p>\n",
       "</div>"
      ],
      "text/plain": [
       "              名稱       收盤      漲跌     開盤       最高     最低     成交股數  成交金額(元)  \\\n",
       "代號                                                                           \n",
       "4205          恆義    18.30  + 0.20  18.10    18.30  18.10    29000   527100   \n",
       "4207          環泰  ⊕ 11.05  + 0.70  10.40  ⊕ 11.05  10.20   445000  4647250   \n",
       "4303          信立     2.58  - 0.08   2.69     2.70   2.58   723000  1893010   \n",
       "4304          琨詰   ⊕ 5.70  + 0.37   5.40   ⊕ 5.70   5.40  1311000  7464850   \n",
       "4305          世坤    14.50  + 0.20  14.35    14.65  14.35    26000   376300   \n",
       "...          ...      ...     ...    ...      ...    ...      ...      ...   \n",
       "020014  元大富櫃200N     ----     ---   ----     ----   ----        0        0   \n",
       "020017  永豐富櫃200N     ----     ---   ----     ----   ----        0        0   \n",
       "020021   統一恒生科技N    10.01   +0.09   9.92    10.02   9.92   767000  7650360   \n",
       "020023  元大櫃買半導體N     5.69   -0.02   5.75     5.81   5.69   474000  2714490   \n",
       "020024  兆豐富櫃200N     ----     ---   ----     ----   ----        0        0   \n",
       "\n",
       "       成交筆數   最後買價   最後賣價       發行股數    次日漲停價  次日跌停價          日期 最後買量(千股)  \\\n",
       "代號                                                                          \n",
       "4205     12   18.1   18.3   60086250    19.55  17.05  2007-01-02      NaN   \n",
       "4207     94  11.05    0.0   79335476     11.8   10.3  2007-01-02      NaN   \n",
       "4303    105   2.58    2.6  128639015     2.76    2.4  2007-01-02      NaN   \n",
       "4304     96   5.56    5.7   48295484     6.09   5.31  2007-01-02      NaN   \n",
       "4305     10   14.5   14.6   55014000     15.5   13.5  2007-01-02      NaN   \n",
       "...     ...    ...    ...        ...      ...    ...         ...      ...   \n",
       "020014    0   6.94   6.96   60000000     7.64   6.26  2021-05-26    100.0   \n",
       "020017    0   6.78   6.81   40000000     7.45   6.11  2021-05-26    200.0   \n",
       "020021  110  10.01  10.02  100000000  9999.95   0.01  2021-05-26      4.0   \n",
       "020023   93   5.69    5.7  200000000     6.25   5.13  2021-05-26    114.0   \n",
       "020024    0    5.5   5.51   40000000     6.05   4.95  2021-05-26    499.0   \n",
       "\n",
       "       最後賣量(千股)  \n",
       "代號               \n",
       "4205        NaN  \n",
       "4207        NaN  \n",
       "4303        NaN  \n",
       "4304        NaN  \n",
       "4305        NaN  \n",
       "...         ...  \n",
       "020014    100.0  \n",
       "020017    150.0  \n",
       "020021    537.0  \n",
       "020023    105.0  \n",
       "020024    499.0  \n",
       "\n",
       "[2791028 rows x 17 columns]"
      ]
     },
     "execution_count": 5,
     "metadata": {},
     "output_type": "execute_result"
    }
   ],
   "source": [
    "data"
   ]
  },
  {
   "cell_type": "code",
   "execution_count": 6,
   "metadata": {},
   "outputs": [],
   "source": [
    "data = data[['名稱','日期','收盤','開盤','最高','最低','成交股數','成交金額(元)','成交筆數']]"
   ]
  },
  {
   "cell_type": "code",
   "execution_count": 7,
   "metadata": {},
   "outputs": [],
   "source": [
    "data = data.loc[data['收盤']!='----']\n",
    "data = data.loc[data['收盤']!='---']"
   ]
  },
  {
   "cell_type": "code",
   "execution_count": 8,
   "metadata": {},
   "outputs": [],
   "source": [
    "data[['收盤','開盤','最高','最低']] = data[['收盤','開盤','最高','最低']].astype(str).applymap(lambda x:x.replace('⊕ ',''))\n",
    "data[['收盤','開盤','最高','最低']] = data[['收盤','開盤','最高','最低']].applymap(lambda x:x.replace('⊙ ',''))\n",
    "data[['收盤','開盤','最高','最低']] = data[['收盤','開盤','最高','最低']].astype(float)"
   ]
  },
  {
   "cell_type": "code",
   "execution_count": 15,
   "metadata": {},
   "outputs": [],
   "source": [
    "data[['成交股數','成交金額(元)','成交筆數']] = data[['成交股數','成交金額(元)','成交筆數']].astype('int64')"
   ]
  },
  {
   "cell_type": "code",
   "execution_count": 16,
   "metadata": {},
   "outputs": [
    {
     "data": {
      "text/plain": [
       "名稱          object\n",
       "日期          object\n",
       "收盤         float64\n",
       "開盤         float64\n",
       "最高         float64\n",
       "最低         float64\n",
       "成交股數         int64\n",
       "成交金額(元)      int64\n",
       "成交筆數         int64\n",
       "dtype: object"
      ]
     },
     "execution_count": 16,
     "metadata": {},
     "output_type": "execute_result"
    }
   ],
   "source": [
    "data.dtypes"
   ]
  },
  {
   "cell_type": "code",
   "execution_count": 17,
   "metadata": {},
   "outputs": [],
   "source": [
    "ohlc = data.loc[:,['收盤','開盤','最高','最低']]\n",
    "high = ohlc.max(axis=1)\n",
    "low = ohlc.min(axis=1)"
   ]
  },
  {
   "cell_type": "code",
   "execution_count": 18,
   "metadata": {},
   "outputs": [
    {
     "data": {
      "text/html": [
       "<div>\n",
       "<style scoped>\n",
       "    .dataframe tbody tr th:only-of-type {\n",
       "        vertical-align: middle;\n",
       "    }\n",
       "\n",
       "    .dataframe tbody tr th {\n",
       "        vertical-align: top;\n",
       "    }\n",
       "\n",
       "    .dataframe thead th {\n",
       "        text-align: right;\n",
       "    }\n",
       "</style>\n",
       "<table border=\"1\" class=\"dataframe\">\n",
       "  <thead>\n",
       "    <tr style=\"text-align: right;\">\n",
       "      <th></th>\n",
       "      <th>名稱</th>\n",
       "      <th>日期</th>\n",
       "      <th>收盤</th>\n",
       "      <th>開盤</th>\n",
       "      <th>最高</th>\n",
       "      <th>最低</th>\n",
       "      <th>成交股數</th>\n",
       "      <th>成交金額(元)</th>\n",
       "      <th>成交筆數</th>\n",
       "    </tr>\n",
       "    <tr>\n",
       "      <th>代號</th>\n",
       "      <th></th>\n",
       "      <th></th>\n",
       "      <th></th>\n",
       "      <th></th>\n",
       "      <th></th>\n",
       "      <th></th>\n",
       "      <th></th>\n",
       "      <th></th>\n",
       "      <th></th>\n",
       "    </tr>\n",
       "  </thead>\n",
       "  <tbody>\n",
       "  </tbody>\n",
       "</table>\n",
       "</div>"
      ],
      "text/plain": [
       "Empty DataFrame\n",
       "Columns: [名稱, 日期, 收盤, 開盤, 最高, 最低, 成交股數, 成交金額(元), 成交筆數]\n",
       "Index: []"
      ]
     },
     "execution_count": 18,
     "metadata": {},
     "output_type": "execute_result"
    }
   ],
   "source": [
    "data.loc[ohlc['最高'] != high]"
   ]
  },
  {
   "cell_type": "code",
   "execution_count": 19,
   "metadata": {},
   "outputs": [
    {
     "data": {
      "text/html": [
       "<div>\n",
       "<style scoped>\n",
       "    .dataframe tbody tr th:only-of-type {\n",
       "        vertical-align: middle;\n",
       "    }\n",
       "\n",
       "    .dataframe tbody tr th {\n",
       "        vertical-align: top;\n",
       "    }\n",
       "\n",
       "    .dataframe thead th {\n",
       "        text-align: right;\n",
       "    }\n",
       "</style>\n",
       "<table border=\"1\" class=\"dataframe\">\n",
       "  <thead>\n",
       "    <tr style=\"text-align: right;\">\n",
       "      <th></th>\n",
       "      <th>名稱</th>\n",
       "      <th>日期</th>\n",
       "      <th>收盤</th>\n",
       "      <th>開盤</th>\n",
       "      <th>最高</th>\n",
       "      <th>最低</th>\n",
       "      <th>成交股數</th>\n",
       "      <th>成交金額(元)</th>\n",
       "      <th>成交筆數</th>\n",
       "    </tr>\n",
       "    <tr>\n",
       "      <th>代號</th>\n",
       "      <th></th>\n",
       "      <th></th>\n",
       "      <th></th>\n",
       "      <th></th>\n",
       "      <th></th>\n",
       "      <th></th>\n",
       "      <th></th>\n",
       "      <th></th>\n",
       "      <th></th>\n",
       "    </tr>\n",
       "  </thead>\n",
       "  <tbody>\n",
       "  </tbody>\n",
       "</table>\n",
       "</div>"
      ],
      "text/plain": [
       "Empty DataFrame\n",
       "Columns: [名稱, 日期, 收盤, 開盤, 最高, 最低, 成交股數, 成交金額(元), 成交筆數]\n",
       "Index: []"
      ]
     },
     "execution_count": 19,
     "metadata": {},
     "output_type": "execute_result"
    }
   ],
   "source": [
    "data.loc[ohlc['最低'] != low]"
   ]
  },
  {
   "cell_type": "code",
   "execution_count": 20,
   "metadata": {},
   "outputs": [],
   "source": [
    "data.to_csv(root.joinpath('上櫃_final.csv'),encoding='utf8')"
   ]
  }
 ],
 "metadata": {
  "kernelspec": {
   "display_name": "Python 3",
   "language": "python",
   "name": "python3"
  },
  "language_info": {
   "codemirror_mode": {
    "name": "ipython",
    "version": 3
   },
   "file_extension": ".py",
   "mimetype": "text/x-python",
   "name": "python",
   "nbconvert_exporter": "python",
   "pygments_lexer": "ipython3",
   "version": "3.8.3"
  }
 },
 "nbformat": 4,
 "nbformat_minor": 4
}
