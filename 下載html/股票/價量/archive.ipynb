{
 "cells": [
  {
   "cell_type": "code",
   "execution_count": 29,
   "metadata": {},
   "outputs": [],
   "source": [
    "import pathlib\n",
    "import pandas as pd\n",
    "from IPython.display import clear_output"
   ]
  },
  {
   "cell_type": "code",
   "execution_count": 21,
   "metadata": {},
   "outputs": [],
   "source": [
    "otc_addition = sorted(pathlib.Path(r'D:\\股票網頁\\股票\\價量\\上櫃增補資料_csv').glob('*.csv'))\n",
    "data = pathlib.Path(r'D:\\股票網頁\\股票\\價量\\final')"
   ]
  },
  {
   "cell_type": "code",
   "execution_count": 30,
   "metadata": {},
   "outputs": [
    {
     "name": "stdout",
     "output_type": "stream",
     "text": [
      "666 D:\\股票網頁\\價量\\上櫃增補資料_csv\\9962.csv\n"
     ]
    }
   ],
   "source": [
    "for i,stock in enumerate(otc_addition):\n",
    "    print(i,stock)\n",
    "    addition = pd.read_csv(stock.as_posix(),index_col='date',dtype=str)\n",
    "    otc = pd.read_csv(data.joinpath(stock.name),index_col='date',dtype=str)\n",
    "    merge = addition.append(otc)\n",
    "    merge.to_csv(data.joinpath(stock.name),encoding='utf8')\n",
    "    clear_output(wait=True)"
   ]
  },
  {
   "cell_type": "code",
   "execution_count": 31,
   "metadata": {},
   "outputs": [],
   "source": [
    "depository = pathlib.Path(r'D:\\股票網頁\\股票\\價量\\final')"
   ]
  },
  {
   "cell_type": "code",
   "execution_count": 32,
   "metadata": {},
   "outputs": [],
   "source": [
    "csvs = sorted(depository.glob('*.csv'))"
   ]
  },
  {
   "cell_type": "code",
   "execution_count": 35,
   "metadata": {},
   "outputs": [
    {
     "name": "stdout",
     "output_type": "stream",
     "text": [
      "5185 D:\\股票網頁\\價量\\final\\9962.csv\n"
     ]
    }
   ],
   "source": [
    "root = pathlib.Path(r'C:\\Users\\user\\Dropbox\\Stocky_v2\\Database\\depository\\individual')\n",
    "residual = pathlib.Path('technical','price_volume')\n",
    "file = 'data.csv'\n",
    "\n",
    "for i,csv in enumerate(csvs):\n",
    "    print(i,csv)\n",
    "    stock_id = csv.with_suffix('').name\n",
    "    table = pd.read_csv(csv.as_posix(),index_col='date',dtype=str)\n",
    "\n",
    "    root.joinpath(stock_id,residual).mkdir(parents=True)\n",
    "    table.to_csv(root.joinpath(stock_id,residual,file).as_posix(),encoding='utf8')\n",
    "    clear_output(wait=True)"
   ]
  }
 ],
 "metadata": {
  "kernelspec": {
   "display_name": "Python 3",
   "language": "python",
   "name": "python3"
  },
  "language_info": {
   "codemirror_mode": {
    "name": "ipython",
    "version": 3
   },
   "file_extension": ".py",
   "mimetype": "text/x-python",
   "name": "python",
   "nbconvert_exporter": "python",
   "pygments_lexer": "ipython3",
   "version": "3.8.3"
  }
 },
 "nbformat": 4,
 "nbformat_minor": 4
}
