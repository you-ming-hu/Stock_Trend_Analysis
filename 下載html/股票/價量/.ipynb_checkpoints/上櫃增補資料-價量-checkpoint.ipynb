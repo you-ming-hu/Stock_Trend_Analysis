{
 "cells": [
  {
   "cell_type": "code",
   "execution_count": 27,
   "metadata": {},
   "outputs": [],
   "source": [
    "import pathlib\n",
    "from bs4 import BeautifulSoup\n",
    "from IPython.display import clear_output\n",
    "import pandas as pd\n",
    "import datetime\n",
    "import pickle\n",
    "import requests\n",
    "import time"
   ]
  },
  {
   "cell_type": "code",
   "execution_count": 2,
   "metadata": {},
   "outputs": [
    {
     "name": "stdout",
     "output_type": "stream",
     "text": [
      "70279 2006-12-31\n",
      "70279 2006-11-30\n"
     ]
    }
   ],
   "source": [
    "table = pd.read_csv(r'D:\\股票網頁\\股票\\價量\\上櫃_csv\\2007-01-02.csv')\n",
    "\n",
    "root = pathlib.Path('D:\\股票網頁\\股票\\價量\\上櫃增補資料')\n",
    "\n",
    "append_dates =  pd.date_range('1994-01','2007-01',freq='M').sort_values(ascending=False)\n",
    "\n",
    "url = 'https://www.tpex.org.tw/web/stock/aftertrading/daily_trading_info/st43_print.php'\n",
    "\n",
    "param = dict(l='zh-tw',s='0,asc,0')\n",
    "\n",
    "for stock_id in table['代號'][401:]:\n",
    "    param.update({'stkno':stock_id})\n",
    "    save = root.joinpath(stock_id)\n",
    "    save.mkdir(exist_ok=True)\n",
    "    for i,date in enumerate(append_dates):\n",
    "        print(stock_id,date.date())\n",
    "        if save.joinpath(date.strftime('%Y-%m')).with_suffix('.html').exists():\n",
    "            continue\n",
    "        param.update({'d':date.strftime(f'{date.year-1911}/%m')})\n",
    "        html = requests.get(url,param)\n",
    "        assert html.status_code == 200\n",
    "        time.sleep(10)\n",
    "        if '共0筆' in html.text:\n",
    "            break\n",
    "        save.joinpath(date.strftime('%Y-%m')).with_suffix('.html').write_text(html.text,encoding='utf8')\n",
    "    clear_output(wait=True)"
   ]
  },
  {
   "cell_type": "code",
   "execution_count": 68,
   "metadata": {},
   "outputs": [],
   "source": [
    "root = pathlib.Path('D:\\股票網頁\\股票\\價量\\上櫃增補資料')"
   ]
  },
  {
   "cell_type": "code",
   "execution_count": 69,
   "metadata": {},
   "outputs": [],
   "source": [
    "files = sorted(root.iterdir())"
   ]
  },
  {
   "cell_type": "code",
   "execution_count": 89,
   "metadata": {},
   "outputs": [
    {
     "name": "stdout",
     "output_type": "stream",
     "text": [
      "9962 95/12\n"
     ]
    }
   ],
   "source": [
    "columns = ['日 期', '成交仟股', '成交仟元', '開盤', '最高', '最低', '收盤', '漲跌', '筆數']\n",
    "\n",
    "for stock in files:\n",
    "    stock_id = stock.name\n",
    "    htmls = sorted(stock.glob('*.html'))\n",
    "    \n",
    "    data = pd.DataFrame()\n",
    "    for html in htmls:\n",
    "\n",
    "        month = pd.Timestamp(html.with_suffix('').name)\n",
    "        month = month.strftime(f'{month.year-1911}/%m')\n",
    "        print(stock_id,month)\n",
    "        html = html.read_text(encoding='utf8')\n",
    "\n",
    "\n",
    "        table = BeautifulSoup(html)\n",
    "        info = table.find('tr').text\n",
    "\n",
    "        assert month in info\n",
    "        assert stock_id in info\n",
    "\n",
    "        table.find('tr').decompose()\n",
    "        table.find('tfoot').decompose()\n",
    "\n",
    "        table = pd.read_html(table.prettify())[0]\n",
    "\n",
    "        table = table.loc[(table[['開盤', '最高', '最低', '收盤']]!='--').all(axis=1)]\n",
    "        \n",
    "        if table.empty:\n",
    "            continue\n",
    "            \n",
    "        table[['開盤', '最高', '最低', '收盤']] = table[['開盤', '最高', '最低', '收盤']].astype(float)\n",
    "        assert table.columns.to_list() == columns\n",
    "        assert (table.dtypes == ['object','int64','int64','float64','float64','float64','float64','float64','int64']).all()\n",
    "\n",
    "        table[['成交仟股', '成交仟元']] = table[['成交仟股', '成交仟元']] * 1000\n",
    "\n",
    "        table.columns = ['date', 'volume', 'capital', 'open', 'high', 'low', 'close', '漲跌', 'count']\n",
    "        table['name'] = info.split()[2].replace('股票名稱:','')\n",
    "        table['ID'] = stock_id\n",
    "        table['market'] = 'otc'\n",
    "\n",
    "        date = table.date.str.replace('＊','').str.split('/',expand=True).astype(int)\n",
    "        date[0] = date[0]+1911\n",
    "        date = date.astype(str)\n",
    "        date.columns = ['year', 'month', 'day']\n",
    "        table['date'] = pd.to_datetime(date)\n",
    "\n",
    "        table = table.set_index('date')\n",
    "        table = table[['open','high','low','close','volume','count','capital','ID','name','market']]\n",
    "        \n",
    "        data = data.append(table)\n",
    "        clear_output(wait=True)\n",
    "    \n",
    "    data = data.sort_index()\n",
    "    data = data.reset_index()\n",
    "    data['date'] = data['date'].astype(str)\n",
    "    \n",
    "    data.to_csv(pathlib.Path(r'D:\\股票網頁\\股票\\價量\\上櫃增補資料_csv').joinpath(stock_id).with_suffix('.csv').as_posix(),index=False)"
   ]
  }
 ],
 "metadata": {
  "kernelspec": {
   "display_name": "Python 3",
   "language": "python",
   "name": "python3"
  },
  "language_info": {
   "codemirror_mode": {
    "name": "ipython",
    "version": 3
   },
   "file_extension": ".py",
   "mimetype": "text/x-python",
   "name": "python",
   "nbconvert_exporter": "python",
   "pygments_lexer": "ipython3",
   "version": "3.8.3"
  }
 },
 "nbformat": 4,
 "nbformat_minor": 4
}
