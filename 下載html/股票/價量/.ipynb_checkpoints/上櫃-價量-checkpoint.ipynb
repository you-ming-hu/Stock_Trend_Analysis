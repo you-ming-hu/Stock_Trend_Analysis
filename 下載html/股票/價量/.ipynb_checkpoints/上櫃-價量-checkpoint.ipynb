{
 "cells": [
  {
   "cell_type": "code",
   "execution_count": 1,
   "metadata": {},
   "outputs": [
    {
     "data": {
      "text/plain": [
       "<function <run_path>.fetch(drive, category, market, start, end, method, url, param, date_parem_name, date_transfer_func, encoding, sleep, check=False)>"
      ]
     },
     "execution_count": 1,
     "metadata": {},
     "output_type": "execute_result"
    }
   ],
   "source": [
    "import runpy\n",
    "import pathlib\n",
    "fetch = runpy.run_path(pathlib.Path('.').absolute().parent.parent.joinpath('download.py'))['fetch']\n",
    "fetch"
   ]
  },
  {
   "cell_type": "code",
   "execution_count": 3,
   "metadata": {},
   "outputs": [
    {
     "name": "stdout",
     "output_type": "stream",
     "text": [
      "FINISH!\n"
     ]
    }
   ],
   "source": [
    "#第一階段\n",
    "url = 'https://www.tpex.org.tw/web/stock/aftertrading/otc_quotes_no1430B/stk_wn1430_print.php'\n",
    "param = dict(l='zh-tw',ajax='true',temp_sect='AL')\n",
    "date_parem_name = 'input_date'\n",
    "date_transfer_func = lambda d:d.strftime(f'{d.year-1911}/%m/%d')\n",
    "encoding = 'ms950'\n",
    "sleep = 10\n",
    "fetch('D','股票\\價量','上櫃','2007-01-02','2007-06-29','get',url,param,date_parem_name,date_transfer_func,encoding,sleep)\n",
    "fetch('D','股票\\價量','上櫃','2007-01-02','2007-06-29','get',url,param,date_parem_name,date_transfer_func,encoding,sleep,True)"
   ]
  },
  {
   "cell_type": "code",
   "execution_count": 4,
   "metadata": {},
   "outputs": [
    {
     "name": "stdout",
     "output_type": "stream",
     "text": [
      "FINISH!\n"
     ]
    }
   ],
   "source": [
    "#第二階段\n",
    "url = 'https://www.tpex.org.tw/web/stock/aftertrading/otc_quotes_no1430/stk_wn1430_result.php'\n",
    "param = dict(l='zh-tw',o='htm',se='EW',s='0,asc,0')\n",
    "date_parem_name = 'd'\n",
    "date_transfer_func = lambda d:d.strftime(f'{d.year-1911}/%m/%d')\n",
    "encoding = 'utf8'\n",
    "sleep = 5\n",
    "fetch('D','股票\\價量','上櫃','2007-07-02','2021-05-26','get',url,param,date_parem_name,date_transfer_func,encoding,sleep)\n",
    "fetch('D','股票\\價量','上櫃','2007-07-02','2021-05-26','get',url,param,date_parem_name,date_transfer_func,encoding,sleep,True)"
   ]
  }
 ],
 "metadata": {
  "kernelspec": {
   "display_name": "Python 3",
   "language": "python",
   "name": "python3"
  },
  "language_info": {
   "codemirror_mode": {
    "name": "ipython",
    "version": 3
   },
   "file_extension": ".py",
   "mimetype": "text/x-python",
   "name": "python",
   "nbconvert_exporter": "python",
   "pygments_lexer": "ipython3",
   "version": "3.8.3"
  }
 },
 "nbformat": 4,
 "nbformat_minor": 4
}
