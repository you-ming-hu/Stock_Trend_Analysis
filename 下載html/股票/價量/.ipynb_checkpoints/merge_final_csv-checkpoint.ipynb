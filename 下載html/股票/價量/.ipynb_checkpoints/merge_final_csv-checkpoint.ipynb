{
 "cells": [
  {
   "cell_type": "code",
   "execution_count": 2,
   "metadata": {},
   "outputs": [],
   "source": [
    "import pathlib\n",
    "from bs4 import BeautifulSoup\n",
    "from IPython.display import clear_output\n",
    "import pandas as pd\n",
    "import pickle"
   ]
  },
  {
   "cell_type": "code",
   "execution_count": 3,
   "metadata": {},
   "outputs": [],
   "source": [
    "root = pathlib.Path('D:\\股票網頁\\股票\\價量')\n",
    "exchange = pd.read_csv(root.joinpath('上市_final.csv'),encoding='utf8',dtype=str)\n",
    "otc = pd.read_csv(root.joinpath('上櫃_final.csv'),encoding='utf8',dtype=str)"
   ]
  },
  {
   "cell_type": "code",
   "execution_count": 4,
   "metadata": {},
   "outputs": [
    {
     "data": {
      "text/plain": [
       "Index(['代號', '名稱', '日期', '收盤', '開盤', '最高', '最低', '成交股數', '成交金額(元)', '成交筆數'], dtype='object')"
      ]
     },
     "execution_count": 4,
     "metadata": {},
     "output_type": "execute_result"
    }
   ],
   "source": [
    "otc.columns"
   ]
  },
  {
   "cell_type": "code",
   "execution_count": 6,
   "metadata": {},
   "outputs": [],
   "source": [
    "otc.columns = ['ID','name','date','close','open','high','low','volume','capital','count']\n",
    "otc['market'] = 'otc'"
   ]
  },
  {
   "cell_type": "code",
   "execution_count": 5,
   "metadata": {},
   "outputs": [
    {
     "data": {
      "text/plain": [
       "Index(['證券代號', '日期', '證券名稱', '成交股數', '成交筆數', '成交金額', '開盤價', '最高價', '最低價',\n",
       "       '收盤價'],\n",
       "      dtype='object')"
      ]
     },
     "execution_count": 5,
     "metadata": {},
     "output_type": "execute_result"
    }
   ],
   "source": [
    "exchange.columns"
   ]
  },
  {
   "cell_type": "code",
   "execution_count": 7,
   "metadata": {},
   "outputs": [],
   "source": [
    "exchange.columns = ['ID','date','name','volume','count','capital','open','high','low','close']\n",
    "exchange['market'] = 'exchange'"
   ]
  },
  {
   "cell_type": "code",
   "execution_count": 8,
   "metadata": {},
   "outputs": [],
   "source": [
    "merge = exchange.append(otc,ignore_index=True)"
   ]
  },
  {
   "cell_type": "code",
   "execution_count": 9,
   "metadata": {},
   "outputs": [],
   "source": [
    "dup = merge.loc[merge[['ID','date']].duplicated(keep=False)]"
   ]
  },
  {
   "cell_type": "code",
   "execution_count": 10,
   "metadata": {},
   "outputs": [
    {
     "data": {
      "text/html": [
       "<div>\n",
       "<style scoped>\n",
       "    .dataframe tbody tr th:only-of-type {\n",
       "        vertical-align: middle;\n",
       "    }\n",
       "\n",
       "    .dataframe tbody tr th {\n",
       "        vertical-align: top;\n",
       "    }\n",
       "\n",
       "    .dataframe thead th {\n",
       "        text-align: right;\n",
       "    }\n",
       "</style>\n",
       "<table border=\"1\" class=\"dataframe\">\n",
       "  <thead>\n",
       "    <tr style=\"text-align: right;\">\n",
       "      <th></th>\n",
       "      <th>ID</th>\n",
       "      <th>date</th>\n",
       "      <th>name</th>\n",
       "      <th>volume</th>\n",
       "      <th>count</th>\n",
       "      <th>capital</th>\n",
       "      <th>open</th>\n",
       "      <th>high</th>\n",
       "      <th>low</th>\n",
       "      <th>close</th>\n",
       "      <th>market</th>\n",
       "    </tr>\n",
       "  </thead>\n",
       "  <tbody>\n",
       "  </tbody>\n",
       "</table>\n",
       "</div>"
      ],
      "text/plain": [
       "Empty DataFrame\n",
       "Columns: [ID, date, name, volume, count, capital, open, high, low, close, market]\n",
       "Index: []"
      ]
     },
     "execution_count": 10,
     "metadata": {},
     "output_type": "execute_result"
    }
   ],
   "source": [
    "dup"
   ]
  },
  {
   "cell_type": "code",
   "execution_count": 12,
   "metadata": {},
   "outputs": [],
   "source": [
    "# merge.to_csv(root.joinpath('merge.csv'),encoding='utf8',index=False)"
   ]
  },
  {
   "cell_type": "code",
   "execution_count": 13,
   "metadata": {},
   "outputs": [],
   "source": [
    "merge = merge.set_index('ID')"
   ]
  },
  {
   "cell_type": "code",
   "execution_count": 14,
   "metadata": {},
   "outputs": [],
   "source": [
    "ids = merge.index.unique().sort_values()"
   ]
  },
  {
   "cell_type": "code",
   "execution_count": 15,
   "metadata": {},
   "outputs": [
    {
     "data": {
      "text/html": [
       "<div>\n",
       "<style scoped>\n",
       "    .dataframe tbody tr th:only-of-type {\n",
       "        vertical-align: middle;\n",
       "    }\n",
       "\n",
       "    .dataframe tbody tr th {\n",
       "        vertical-align: top;\n",
       "    }\n",
       "\n",
       "    .dataframe thead th {\n",
       "        text-align: right;\n",
       "    }\n",
       "</style>\n",
       "<table border=\"1\" class=\"dataframe\">\n",
       "  <thead>\n",
       "    <tr style=\"text-align: right;\">\n",
       "      <th></th>\n",
       "      <th>date</th>\n",
       "      <th>name</th>\n",
       "      <th>volume</th>\n",
       "      <th>count</th>\n",
       "      <th>capital</th>\n",
       "      <th>open</th>\n",
       "      <th>high</th>\n",
       "      <th>low</th>\n",
       "      <th>close</th>\n",
       "      <th>market</th>\n",
       "    </tr>\n",
       "    <tr>\n",
       "      <th>ID</th>\n",
       "      <th></th>\n",
       "      <th></th>\n",
       "      <th></th>\n",
       "      <th></th>\n",
       "      <th></th>\n",
       "      <th></th>\n",
       "      <th></th>\n",
       "      <th></th>\n",
       "      <th></th>\n",
       "      <th></th>\n",
       "    </tr>\n",
       "  </thead>\n",
       "  <tbody>\n",
       "    <tr>\n",
       "      <th>0001</th>\n",
       "      <td>2004-02-11</td>\n",
       "      <td>鴻運</td>\n",
       "      <td>19000</td>\n",
       "      <td>7</td>\n",
       "      <td>147700</td>\n",
       "      <td>7.7</td>\n",
       "      <td>7.85</td>\n",
       "      <td>7.7</td>\n",
       "      <td>7.7</td>\n",
       "      <td>exchange</td>\n",
       "    </tr>\n",
       "    <tr>\n",
       "      <th>0015</th>\n",
       "      <td>2004-02-11</td>\n",
       "      <td>富邦</td>\n",
       "      <td>301000</td>\n",
       "      <td>40</td>\n",
       "      <td>1851900</td>\n",
       "      <td>6.2</td>\n",
       "      <td>6.2</td>\n",
       "      <td>6.15</td>\n",
       "      <td>6.15</td>\n",
       "      <td>exchange</td>\n",
       "    </tr>\n",
       "    <tr>\n",
       "      <th>0029</th>\n",
       "      <td>2004-02-11</td>\n",
       "      <td>富邦店</td>\n",
       "      <td>365000</td>\n",
       "      <td>63</td>\n",
       "      <td>1796740</td>\n",
       "      <td>4.95</td>\n",
       "      <td>4.95</td>\n",
       "      <td>4.89</td>\n",
       "      <td>4.89</td>\n",
       "      <td>exchange</td>\n",
       "    </tr>\n",
       "    <tr>\n",
       "      <th>0050</th>\n",
       "      <td>2004-02-11</td>\n",
       "      <td>元大台灣50</td>\n",
       "      <td>5264000</td>\n",
       "      <td>686</td>\n",
       "      <td>254721750</td>\n",
       "      <td>48.5</td>\n",
       "      <td>48.5</td>\n",
       "      <td>48.26</td>\n",
       "      <td>48.37</td>\n",
       "      <td>exchange</td>\n",
       "    </tr>\n",
       "    <tr>\n",
       "      <th>1101</th>\n",
       "      <td>2004-02-11</td>\n",
       "      <td>台泥</td>\n",
       "      <td>44990547</td>\n",
       "      <td>5708</td>\n",
       "      <td>875661311</td>\n",
       "      <td>19.9</td>\n",
       "      <td>19.9</td>\n",
       "      <td>19.1</td>\n",
       "      <td>19.3</td>\n",
       "      <td>exchange</td>\n",
       "    </tr>\n",
       "    <tr>\n",
       "      <th>...</th>\n",
       "      <td>...</td>\n",
       "      <td>...</td>\n",
       "      <td>...</td>\n",
       "      <td>...</td>\n",
       "      <td>...</td>\n",
       "      <td>...</td>\n",
       "      <td>...</td>\n",
       "      <td>...</td>\n",
       "      <td>...</td>\n",
       "      <td>...</td>\n",
       "    </tr>\n",
       "    <tr>\n",
       "      <th>9962</th>\n",
       "      <td>2021-05-26</td>\n",
       "      <td>有益</td>\n",
       "      <td>69000</td>\n",
       "      <td>40</td>\n",
       "      <td>726350</td>\n",
       "      <td>10.6</td>\n",
       "      <td>10.65</td>\n",
       "      <td>10.4</td>\n",
       "      <td>10.6</td>\n",
       "      <td>otc</td>\n",
       "    </tr>\n",
       "    <tr>\n",
       "      <th>020001</th>\n",
       "      <td>2021-05-26</td>\n",
       "      <td>富邦存股雙十N</td>\n",
       "      <td>4000</td>\n",
       "      <td>4</td>\n",
       "      <td>32420</td>\n",
       "      <td>8.08</td>\n",
       "      <td>8.16</td>\n",
       "      <td>8.08</td>\n",
       "      <td>8.16</td>\n",
       "      <td>otc</td>\n",
       "    </tr>\n",
       "    <tr>\n",
       "      <th>020013</th>\n",
       "      <td>2021-05-26</td>\n",
       "      <td>元富亞洲高股息N</td>\n",
       "      <td>1000</td>\n",
       "      <td>1</td>\n",
       "      <td>15930</td>\n",
       "      <td>15.93</td>\n",
       "      <td>15.93</td>\n",
       "      <td>15.93</td>\n",
       "      <td>15.93</td>\n",
       "      <td>otc</td>\n",
       "    </tr>\n",
       "    <tr>\n",
       "      <th>020021</th>\n",
       "      <td>2021-05-26</td>\n",
       "      <td>統一恒生科技N</td>\n",
       "      <td>767000</td>\n",
       "      <td>110</td>\n",
       "      <td>7650360</td>\n",
       "      <td>9.92</td>\n",
       "      <td>10.02</td>\n",
       "      <td>9.92</td>\n",
       "      <td>10.01</td>\n",
       "      <td>otc</td>\n",
       "    </tr>\n",
       "    <tr>\n",
       "      <th>020023</th>\n",
       "      <td>2021-05-26</td>\n",
       "      <td>元大櫃買半導體N</td>\n",
       "      <td>474000</td>\n",
       "      <td>93</td>\n",
       "      <td>2714490</td>\n",
       "      <td>5.75</td>\n",
       "      <td>5.81</td>\n",
       "      <td>5.69</td>\n",
       "      <td>5.69</td>\n",
       "      <td>otc</td>\n",
       "    </tr>\n",
       "  </tbody>\n",
       "</table>\n",
       "<p>6422574 rows × 10 columns</p>\n",
       "</div>"
      ],
      "text/plain": [
       "              date      name    volume count    capital   open   high    low  \\\n",
       "ID                                                                             \n",
       "0001    2004-02-11        鴻運     19000     7     147700    7.7   7.85    7.7   \n",
       "0015    2004-02-11        富邦    301000    40    1851900    6.2    6.2   6.15   \n",
       "0029    2004-02-11       富邦店    365000    63    1796740   4.95   4.95   4.89   \n",
       "0050    2004-02-11    元大台灣50   5264000   686  254721750   48.5   48.5  48.26   \n",
       "1101    2004-02-11        台泥  44990547  5708  875661311   19.9   19.9   19.1   \n",
       "...            ...       ...       ...   ...        ...    ...    ...    ...   \n",
       "9962    2021-05-26        有益     69000    40     726350   10.6  10.65   10.4   \n",
       "020001  2021-05-26   富邦存股雙十N      4000     4      32420   8.08   8.16   8.08   \n",
       "020013  2021-05-26  元富亞洲高股息N      1000     1      15930  15.93  15.93  15.93   \n",
       "020021  2021-05-26   統一恒生科技N    767000   110    7650360   9.92  10.02   9.92   \n",
       "020023  2021-05-26  元大櫃買半導體N    474000    93    2714490   5.75   5.81   5.69   \n",
       "\n",
       "        close    market  \n",
       "ID                       \n",
       "0001      7.7  exchange  \n",
       "0015     6.15  exchange  \n",
       "0029     4.89  exchange  \n",
       "0050    48.37  exchange  \n",
       "1101     19.3  exchange  \n",
       "...       ...       ...  \n",
       "9962     10.6       otc  \n",
       "020001   8.16       otc  \n",
       "020013  15.93       otc  \n",
       "020021  10.01       otc  \n",
       "020023   5.69       otc  \n",
       "\n",
       "[6422574 rows x 10 columns]"
      ]
     },
     "execution_count": 15,
     "metadata": {},
     "output_type": "execute_result"
    }
   ],
   "source": []
  },
  {
   "cell_type": "code",
   "execution_count": 16,
   "metadata": {},
   "outputs": [
    {
     "name": "stdout",
     "output_type": "stream",
     "text": [
      "9962 5185 / 5186\n"
     ]
    }
   ],
   "source": [
    "for i,stock_id in enumerate(ids):\n",
    "    print(stock_id,i,'/',ids.size)\n",
    "    table = merge.loc[[stock_id]]\n",
    "    table = table.reset_index()\n",
    "    table = table.set_index('date')\n",
    "    table.index = pd.DatetimeIndex(table.index)\n",
    "    table = table.sort_index()\n",
    "    table = table[['open','high','low','close','volume','count','capital','ID','name','market']]\n",
    "    table.to_csv(root.joinpath('final',stock_id).with_suffix('.csv'),encoding='utf8')\n",
    "    clear_output(wait=True)"
   ]
  }
 ],
 "metadata": {
  "kernelspec": {
   "display_name": "Python 3",
   "language": "python",
   "name": "python3"
  },
  "language_info": {
   "codemirror_mode": {
    "name": "ipython",
    "version": 3
   },
   "file_extension": ".py",
   "mimetype": "text/x-python",
   "name": "python",
   "nbconvert_exporter": "python",
   "pygments_lexer": "ipython3",
   "version": "3.8.3"
  }
 },
 "nbformat": 4,
 "nbformat_minor": 4
}
