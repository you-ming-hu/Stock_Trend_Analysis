{
 "cells": [
  {
   "cell_type": "code",
   "execution_count": 4,
   "metadata": {},
   "outputs": [
    {
     "data": {
      "text/plain": [
       "<function <run_path>.fetch(drive, category, market, start, end, method, url, param, date_parem_name, date_transfer_func, encoding, sleep, check=False, freq='d')>"
      ]
     },
     "execution_count": 4,
     "metadata": {},
     "output_type": "execute_result"
    }
   ],
   "source": [
    "import runpy\n",
    "import pathlib\n",
    "fetch = runpy.run_path(pathlib.Path('.').absolute().parent.parent.joinpath('download.py'))['fetch']\n",
    "fetch"
   ]
  },
  {
   "cell_type": "code",
   "execution_count": 5,
   "metadata": {},
   "outputs": [
    {
     "name": "stdout",
     "output_type": "stream",
     "text": [
      "FINISH!\n"
     ]
    }
   ],
   "source": [
    "url = 'https://www.twse.com.tw/exchangeReport/MI_MARGN'\n",
    "param = dict(response='html',selectType='MS')\n",
    "date_parem_name = 'date'\n",
    "date_transfer_func = lambda d:d.strftime('%Y%m%d')\n",
    "encoding = 'utf8'\n",
    "sleep = 10\n",
    "fetch('D','大盤/融資券','上市','2001-01-02','2021-07-21','get',url,param,date_parem_name,date_transfer_func,encoding,sleep)\n",
    "fetch('D','大盤/融資券','上市','2001-01-02','2021-07-21','get',url,param,date_parem_name,date_transfer_func,encoding,sleep,True)\n",
    "fetch('D','大盤/融資券','上市','2001-01-02','2021-07-21','get',url,param,date_parem_name,date_transfer_func,encoding,sleep)"
   ]
  }
 ],
 "metadata": {
  "kernelspec": {
   "display_name": "Python 3",
   "language": "python",
   "name": "python3"
  },
  "language_info": {
   "codemirror_mode": {
    "name": "ipython",
    "version": 3
   },
   "file_extension": ".py",
   "mimetype": "text/x-python",
   "name": "python",
   "nbconvert_exporter": "python",
   "pygments_lexer": "ipython3",
   "version": "3.6.5"
  }
 },
 "nbformat": 4,
 "nbformat_minor": 5
}
