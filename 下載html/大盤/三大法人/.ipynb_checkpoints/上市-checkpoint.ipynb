{
 "cells": [
  {
   "cell_type": "code",
   "execution_count": 1,
   "id": "89bc23de",
   "metadata": {},
   "outputs": [
    {
     "data": {
      "text/plain": [
       "<function <run_path>.fetch(drive, category, market, start, end, method, url, param, date_parem_name, date_transfer_func, encoding, sleep, check=False, freq='d')>"
      ]
     },
     "execution_count": 1,
     "metadata": {},
     "output_type": "execute_result"
    }
   ],
   "source": [
    "import runpy\n",
    "import pathlib\n",
    "fetch = runpy.run_path(pathlib.Path('.').absolute().parent.parent.joinpath('download.py'))['fetch']\n",
    "fetch"
   ]
  },
  {
   "cell_type": "code",
   "execution_count": 3,
   "id": "b653fc72",
   "metadata": {},
   "outputs": [
    {
     "name": "stdout",
     "output_type": "stream",
     "text": [
      "460 / 1341 \t 2019-02-21\tCHECK\tSAME\tSLEEP\t"
     ]
    },
    {
     "ename": "KeyboardInterrupt",
     "evalue": "",
     "output_type": "error",
     "traceback": [
      "\u001b[1;31m---------------------------------------------------------------------------\u001b[0m",
      "\u001b[1;31mKeyboardInterrupt\u001b[0m                         Traceback (most recent call last)",
      "\u001b[1;32m<ipython-input-3-415e3d21581b>\u001b[0m in \u001b[0;36m<module>\u001b[1;34m\u001b[0m\n\u001b[0;32m      6\u001b[0m \u001b[0msleep\u001b[0m \u001b[1;33m=\u001b[0m \u001b[1;36m10\u001b[0m\u001b[1;33m\u001b[0m\u001b[1;33m\u001b[0m\u001b[0m\n\u001b[0;32m      7\u001b[0m \u001b[0mfetch\u001b[0m\u001b[1;33m(\u001b[0m\u001b[1;34m'D'\u001b[0m\u001b[1;33m,\u001b[0m\u001b[1;34m'大盤/三大法人'\u001b[0m\u001b[1;33m,\u001b[0m\u001b[1;34m'上市'\u001b[0m\u001b[1;33m,\u001b[0m\u001b[1;34m'2017-11-15'\u001b[0m\u001b[1;33m,\u001b[0m\u001b[1;34m'2021-07-21'\u001b[0m\u001b[1;33m,\u001b[0m\u001b[1;34m'get'\u001b[0m\u001b[1;33m,\u001b[0m\u001b[0murl\u001b[0m\u001b[1;33m,\u001b[0m\u001b[0mparam\u001b[0m\u001b[1;33m,\u001b[0m\u001b[0mdate_parem_name\u001b[0m\u001b[1;33m,\u001b[0m\u001b[0mdate_transfer_func\u001b[0m\u001b[1;33m,\u001b[0m\u001b[0mencoding\u001b[0m\u001b[1;33m,\u001b[0m\u001b[0msleep\u001b[0m\u001b[1;33m)\u001b[0m\u001b[1;33m\u001b[0m\u001b[1;33m\u001b[0m\u001b[0m\n\u001b[1;32m----> 8\u001b[1;33m \u001b[0mfetch\u001b[0m\u001b[1;33m(\u001b[0m\u001b[1;34m'D'\u001b[0m\u001b[1;33m,\u001b[0m\u001b[1;34m'大盤/三大法人'\u001b[0m\u001b[1;33m,\u001b[0m\u001b[1;34m'上市'\u001b[0m\u001b[1;33m,\u001b[0m\u001b[1;34m'2017-11-19'\u001b[0m\u001b[1;33m,\u001b[0m\u001b[1;34m'2021-07-21'\u001b[0m\u001b[1;33m,\u001b[0m\u001b[1;34m'get'\u001b[0m\u001b[1;33m,\u001b[0m\u001b[0murl\u001b[0m\u001b[1;33m,\u001b[0m\u001b[0mparam\u001b[0m\u001b[1;33m,\u001b[0m\u001b[0mdate_parem_name\u001b[0m\u001b[1;33m,\u001b[0m\u001b[0mdate_transfer_func\u001b[0m\u001b[1;33m,\u001b[0m\u001b[0mencoding\u001b[0m\u001b[1;33m,\u001b[0m\u001b[0msleep\u001b[0m\u001b[1;33m,\u001b[0m\u001b[1;32mTrue\u001b[0m\u001b[1;33m)\u001b[0m\u001b[1;33m\u001b[0m\u001b[1;33m\u001b[0m\u001b[0m\n\u001b[0m\u001b[0;32m      9\u001b[0m \u001b[0mfetch\u001b[0m\u001b[1;33m(\u001b[0m\u001b[1;34m'D'\u001b[0m\u001b[1;33m,\u001b[0m\u001b[1;34m'大盤/三大法人'\u001b[0m\u001b[1;33m,\u001b[0m\u001b[1;34m'上市'\u001b[0m\u001b[1;33m,\u001b[0m\u001b[1;34m'2004-04-07'\u001b[0m\u001b[1;33m,\u001b[0m\u001b[1;34m'2021-07-21'\u001b[0m\u001b[1;33m,\u001b[0m\u001b[1;34m'get'\u001b[0m\u001b[1;33m,\u001b[0m\u001b[0murl\u001b[0m\u001b[1;33m,\u001b[0m\u001b[0mparam\u001b[0m\u001b[1;33m,\u001b[0m\u001b[0mdate_parem_name\u001b[0m\u001b[1;33m,\u001b[0m\u001b[0mdate_transfer_func\u001b[0m\u001b[1;33m,\u001b[0m\u001b[0mencoding\u001b[0m\u001b[1;33m,\u001b[0m\u001b[0msleep\u001b[0m\u001b[1;33m)\u001b[0m\u001b[1;33m\u001b[0m\u001b[1;33m\u001b[0m\u001b[0m\n",
      "\u001b[1;32m~\\Dropbox\\StockLab\\下載html\\download.py\u001b[0m in \u001b[0;36mfetch\u001b[1;34m(drive, category, market, start, end, method, url, param, date_parem_name, date_transfer_func, encoding, sleep, check, freq)\u001b[0m\n\u001b[0;32m     28\u001b[0m                     \u001b[0mprint\u001b[0m\u001b[1;33m(\u001b[0m\u001b[1;34m'SAME'\u001b[0m\u001b[1;33m,\u001b[0m\u001b[0mend\u001b[0m\u001b[1;33m=\u001b[0m\u001b[1;34m'\\t'\u001b[0m\u001b[1;33m)\u001b[0m\u001b[1;33m\u001b[0m\u001b[1;33m\u001b[0m\u001b[0m\n\u001b[0;32m     29\u001b[0m                 \u001b[0mprint\u001b[0m\u001b[1;33m(\u001b[0m\u001b[1;34m'SLEEP'\u001b[0m\u001b[1;33m,\u001b[0m\u001b[0mend\u001b[0m\u001b[1;33m=\u001b[0m\u001b[1;34m'\\t'\u001b[0m\u001b[1;33m)\u001b[0m\u001b[1;33m\u001b[0m\u001b[1;33m\u001b[0m\u001b[0m\n\u001b[1;32m---> 30\u001b[1;33m                 \u001b[0mtime\u001b[0m\u001b[1;33m.\u001b[0m\u001b[0msleep\u001b[0m\u001b[1;33m(\u001b[0m\u001b[0msleep\u001b[0m\u001b[1;33m)\u001b[0m\u001b[1;33m\u001b[0m\u001b[1;33m\u001b[0m\u001b[0m\n\u001b[0m\u001b[0;32m     31\u001b[0m                 \u001b[0mprint\u001b[0m\u001b[1;33m(\u001b[0m\u001b[1;34m'SUCCESS!'\u001b[0m\u001b[1;33m)\u001b[0m\u001b[1;33m\u001b[0m\u001b[1;33m\u001b[0m\u001b[0m\n\u001b[0;32m     32\u001b[0m         \u001b[1;32melse\u001b[0m\u001b[1;33m:\u001b[0m\u001b[1;33m\u001b[0m\u001b[1;33m\u001b[0m\u001b[0m\n",
      "\u001b[1;31mKeyboardInterrupt\u001b[0m: "
     ]
    }
   ],
   "source": [
    "url = 'https://www.twse.com.tw/fund/BFI82U'\n",
    "param = dict(response='html')\n",
    "date_parem_name = 'dayDate'\n",
    "date_transfer_func = lambda d:d.strftime('%Y%m%d')\n",
    "encoding = 'utf8'\n",
    "sleep = 10\n",
    "# fetch('D','大盤/三大法人','上市','2004-04-07','2021-07-21','get',url,param,date_parem_name,date_transfer_func,encoding,sleep)\n",
    "fetch('D','大盤/三大法人','上市','2017-11-19','2021-07-21','get',url,param,date_parem_name,date_transfer_func,encoding,sleep,True)\n",
    "fetch('D','大盤/三大法人','上市','2004-04-07','2021-07-21','get',url,param,date_parem_name,date_transfer_func,encoding,sleep)"
   ]
  },
  {
   "cell_type": "code",
   "execution_count": null,
   "id": "aa227bb4",
   "metadata": {},
   "outputs": [],
   "source": []
  }
 ],
 "metadata": {
  "kernelspec": {
   "display_name": "Python 3",
   "language": "python",
   "name": "python3"
  },
  "language_info": {
   "codemirror_mode": {
    "name": "ipython",
    "version": 3
   },
   "file_extension": ".py",
   "mimetype": "text/x-python",
   "name": "python",
   "nbconvert_exporter": "python",
   "pygments_lexer": "ipython3",
   "version": "3.8.3"
  }
 },
 "nbformat": 4,
 "nbformat_minor": 5
}
