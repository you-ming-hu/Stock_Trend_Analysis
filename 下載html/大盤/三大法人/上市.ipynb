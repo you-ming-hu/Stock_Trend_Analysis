{
 "cells": [
  {
   "cell_type": "code",
   "execution_count": 1,
   "id": "89bc23de",
   "metadata": {},
   "outputs": [
    {
     "data": {
      "text/plain": [
       "<function <run_path>.fetch(drive, category, market, start, end, method, url, param, date_parem_name, date_transfer_func, encoding, sleep, check=False, freq='d')>"
      ]
     },
     "execution_count": 1,
     "metadata": {},
     "output_type": "execute_result"
    }
   ],
   "source": [
    "import runpy\n",
    "import pathlib\n",
    "fetch = runpy.run_path(pathlib.Path('.').absolute().parent.parent.joinpath('download.py'))['fetch']\n",
    "fetch"
   ]
  },
  {
   "cell_type": "code",
   "execution_count": 2,
   "id": "b653fc72",
   "metadata": {},
   "outputs": [
    {
     "name": "stdout",
     "output_type": "stream",
     "text": [
      "FINISH!\n"
     ]
    }
   ],
   "source": [
    "url = 'https://www.twse.com.tw/fund/BFI82U'\n",
    "param = dict(response='html')\n",
    "date_parem_name = 'dayDate'\n",
    "date_transfer_func = lambda d:d.strftime('%Y%m%d')\n",
    "encoding = 'utf8'\n",
    "sleep = 10\n",
    "# fetch('D','大盤/三大法人','上市','2004-04-07','2021-07-21','get',url,param,date_parem_name,date_transfer_func,encoding,sleep)\n",
    "fetch('D','大盤/三大法人','上市','2019-02-21','2021-07-21','get',url,param,date_parem_name,date_transfer_func,encoding,sleep,True)\n",
    "fetch('D','大盤/三大法人','上市','2004-04-07','2021-07-21','get',url,param,date_parem_name,date_transfer_func,encoding,sleep)"
   ]
  },
  {
   "cell_type": "code",
   "execution_count": null,
   "id": "aa227bb4",
   "metadata": {},
   "outputs": [],
   "source": []
  }
 ],
 "metadata": {
  "kernelspec": {
   "display_name": "Python 3",
   "language": "python",
   "name": "python3"
  },
  "language_info": {
   "codemirror_mode": {
    "name": "ipython",
    "version": 3
   },
   "file_extension": ".py",
   "mimetype": "text/x-python",
   "name": "python",
   "nbconvert_exporter": "python",
   "pygments_lexer": "ipython3",
   "version": "3.8.3"
  }
 },
 "nbformat": 4,
 "nbformat_minor": 5
}
