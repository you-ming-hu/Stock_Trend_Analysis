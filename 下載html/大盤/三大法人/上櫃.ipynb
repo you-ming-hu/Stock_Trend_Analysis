{
 "cells": [
  {
   "cell_type": "code",
   "execution_count": null,
   "id": "4a636d25",
   "metadata": {},
   "outputs": [],
   "source": [
    "import runpy\n",
    "import pathlib\n",
    "fetch = runpy.run_path(pathlib.Path('.').absolute().parent.parent.joinpath('download.py'))['fetch']\n",
    "fetch"
   ]
  },
  {
   "cell_type": "code",
   "execution_count": null,
   "id": "b709adb5",
   "metadata": {},
   "outputs": [],
   "source": [
    "# url = 'https://www.tpex.org.tw/web/stock/3insti/daily_trade/3itrade_print.php'\n",
    "# param = dict(l='zh-tw',se='EW',t='D',s='0,asc,0')\n",
    "# date_parem_name = 'd'\n",
    "# date_transfer_func = lambda d:d.strftime(f'{d.year-1911}/%m/%d')\n",
    "# encoding = 'utf8'\n",
    "# sleep = 5\n",
    "# fetch('D','股票/三大法人','上櫃','2007-04-23','2014-11-28','get',url,param,date_parem_name,date_transfer_func,encoding,sleep)\n",
    "# fetch('D','股票/三大法人','上櫃','2007-04-23','2014-11-28','get',url,param,date_parem_name,date_transfer_func,encoding,sleep,True)"
   ]
  }
 ],
 "metadata": {
  "kernelspec": {
   "display_name": "Python 3",
   "language": "python",
   "name": "python3"
  },
  "language_info": {
   "codemirror_mode": {
    "name": "ipython",
    "version": 3
   },
   "file_extension": ".py",
   "mimetype": "text/x-python",
   "name": "python",
   "nbconvert_exporter": "python",
   "pygments_lexer": "ipython3",
   "version": "3.8.3"
  }
 },
 "nbformat": 4,
 "nbformat_minor": 5
}
