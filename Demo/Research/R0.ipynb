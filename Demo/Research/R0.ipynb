{
 "cells": [
  {
   "cell_type": "code",
   "execution_count": 1,
   "id": "8c6970f6",
   "metadata": {},
   "outputs": [],
   "source": [
    "import os\n",
    "os.chdir('..')\n",
    "os.chdir('..')\n",
    "\n",
    "def collect(preffix):\n",
    "    return [v for k,v in globals().items() if k.startswith(preffix)]\n",
    "\n",
    "from Stocky import Dataset\n",
    "\n",
    "from Stocky import Resample\n",
    "from Stocky import Indicator\n",
    "from Stocky import FloatingIndicator\n",
    "from Stocky import Signalizer\n",
    "from Stocky import Filter\n",
    "\n",
    "from Stocky.Structure import GridSearch\n",
    "\n",
    "import pandas as pd\n",
    "pd.options.display.max_rows=2000"
   ]
  },
  {
   "cell_type": "markdown",
   "id": "d69c401e",
   "metadata": {},
   "source": [
    "# ESTIMATOR\n",
    "call"
   ]
  },
  {
   "cell_type": "code",
   "execution_count": 2,
   "id": "6b01d4f6",
   "metadata": {},
   "outputs": [],
   "source": [
    "class MyEstimator(Estimator):\n",
    "    def __init__(self):\n",
    "        super().__init__(vars())\n",
    "    def call(self,resource):\n",
    "        return None,None"
   ]
  },
  {
   "cell_type": "markdown",
   "id": "4cbfc9c0",
   "metadata": {},
   "source": [
    "# DETECTOR"
   ]
  },
  {
   "cell_type": "code",
   "execution_count": 4,
   "id": "6aef1c5f",
   "metadata": {},
   "outputs": [],
   "source": [
    "class MyDetector(Detector):\n",
    "    def __init__(self):\n",
    "        super().__init__(vars())\n",
    "        self.to_month = Resample.OHLCV('M')\n",
    "        \n",
    "        self.MAs = Indicator.MA([3,6,12])\n",
    "        self.decrease = Signalizer.Decreasing()\n",
    "        self.non_continuous = Filter.NonContinuous()\n",
    "        self.refractory = Filter.Refractory(6)\n",
    "        \n",
    "        self.KDJ = Indicator.KDJ(5,3,3)\n",
    "        \n",
    "        self.MACD = Indicator.MACD(4,9,3)\n",
    "        \n",
    "        self.long_MA = Indicator.MA(24)\n",
    "        \n",
    "    def call(self,resource):\n",
    "        ohlcv = resource.stock.ohlcv\n",
    "        month_close = self.to_month(ohlcv.close)\n",
    "        \n",
    "        MAs = self.MAs(month_close)\n",
    "        con_1 = self.decrease(MAs)\n",
    "        con_1 = self.non_continuous(con_1)\n",
    "        con_1 = self.refractory(con_1)\n",
    "        \n",
    "        kdj = self.KDJ(month_close)\n",
    "        con_2 = kdj['K'] > 50\n",
    "        \n",
    "        macd = self.MACD(month_close)\n",
    "        con_3 = macd['OSC'] > 0\n",
    "        \n",
    "        long_ma = self.long_MA(month_close)\n",
    "        con_4 = month_close > long_ma \n",
    "        \n",
    "        cons = con_1 & con_2 & con_3 & con_4\n",
    "        return cons"
   ]
  },
  {
   "cell_type": "markdown",
   "id": "5f886d1f",
   "metadata": {},
   "source": [
    "# TRADER"
   ]
  },
  {
   "cell_type": "code",
   "execution_count": 5,
   "id": "977d72b5",
   "metadata": {},
   "outputs": [],
   "source": [
    "class MyTrader(Trader):\n",
    "    def __init__(self,first_stage_success_rate,second_stage_success_rate,cut_rate):\n",
    "        super().__init__(vars())\n",
    "        \n",
    "        self.first_stage_success_rate = first_stage_success_rate\n",
    "        self.second_stage_success_rate = second_stage_success_rate\n",
    "        self.cut_rate = cut_rate\n",
    "        \n",
    "        self.MA = Indicator.MA([5,20,60])\n",
    "        self.increasing = Signalizer.Increasing(False)\n",
    "        self.descending = Signalizer.Descending(False)\n",
    "        \n",
    "        self.to_month = Resample.OHLCV('M')\n",
    "        self.month_ma = Indicator.MA(3)\n",
    "        \n",
    "    def call(self,resource):\n",
    "        close = resource.stock.ohlcv.close\n",
    "        mas = self.MA(close)\n",
    "        self.danger = self.increasing(mas) & self.descending(mas).all(axis=1)\n",
    "        \n",
    "        month_close = self.to_month(close)\n",
    "        self.baseline = self.month_ma(month_close)\n",
    "        \n",
    "    def buy(self,resource,record):\n",
    "        return True,'next day'\n",
    "    def cancel(self,resource,record):\n",
    "        return None\n",
    "    def success(self,resource,record):\n",
    "        if record.current.day <= 20:\n",
    "            return record.buy.price * self.first_stage_success_rate, f'buy.price * {self.first_stage_success_rate}'\n",
    "        else:\n",
    "            if 'period>20' not in record.note:\n",
    "                record.note.append('period>20')\n",
    "            return record.buy.price * self.second_stage_success_rate, f'buy.price * {self.second_stage_success_rate}'\n",
    "    def fail(self,resource,record):\n",
    "        return record.buy.price * self.cut_rate\n",
    "    def flush(self,resource,record):\n",
    "        if self.danger.loc[record.current.date]:\n",
    "            return True, 'danger'\n",
    "        if record.current.day > 60:\n",
    "            if 'period>60' not in record.note:\n",
    "                record.note.append('period>60')\n",
    "            return True, 'period>60'"
   ]
  },
  {
   "cell_type": "markdown",
   "id": "35167890",
   "metadata": {},
   "source": [
    "# ADJUSTER"
   ]
  },
  {
   "cell_type": "code",
   "execution_count": 6,
   "id": "186b54e0",
   "metadata": {},
   "outputs": [],
   "source": [
    "class MyAdjuster(Adjuster):\n",
    "    def __init__(self,valid_period=0,groupby_key=None):\n",
    "        super().__init__(vars())\n",
    "        \n",
    "    def rate(self,keys,ref):\n",
    "        if (ref.sell_price/ref.buy_price).mean() < 1:\n",
    "            return 0"
   ]
  },
  {
   "cell_type": "code",
   "execution_count": 7,
   "id": "a57b7321",
   "metadata": {},
   "outputs": [],
   "source": [
    "data = Dataset.ActiveStocks()"
   ]
  },
  {
   "cell_type": "code",
   "execution_count": null,
   "id": "187414bf",
   "metadata": {
    "scrolled": false
   },
   "outputs": [
    {
     "data": {
      "application/vnd.jupyter.widget-view+json": {
       "model_id": "b1554e4814bb41b0b11a1174eda5a5c5",
       "version_major": 2,
       "version_minor": 0
      },
      "text/plain": [
       "Output()"
      ]
     },
     "metadata": {},
     "output_type": "display_data"
    },
    {
     "data": {
      "application/vnd.jupyter.widget-view+json": {
       "model_id": "66e03494b6aa4a5786251cdaecf3284b",
       "version_major": 2,
       "version_minor": 0
      },
      "text/plain": [
       "Output()"
      ]
     },
     "metadata": {},
     "output_type": "display_data"
    }
   ],
   "source": [
    "gridsearch = GridSearch('R0',True)\n",
    "\n",
    "gridsearch.compile_estimator(MyEstimator).grid()\n",
    "gridsearch.compile_detector(MyDetector).grid()\n",
    "gridsearch.compile_trader(MyTrader).grid([1.2,1.3,1.4,1.5,1.6,1.7,1.8,1.9,2,2.5,3,3.5,4,5,6,7,8,9],[1.05,1.1,1.2,1.4,1.5,2,2.5,3,3.5,4,4.5,5,6,7,8,9],[0.6,0.7,0.8,0.9])\n",
    "gridsearch.compile_adjuster(MyAdjuster).grid()\n",
    "\n",
    "result = gridsearch.fit(data)"
   ]
  }
 ],
 "metadata": {
  "kernelspec": {
   "display_name": "Python 3",
   "language": "python",
   "name": "python3"
  },
  "language_info": {
   "codemirror_mode": {
    "name": "ipython",
    "version": 3
   },
   "file_extension": ".py",
   "mimetype": "text/x-python",
   "name": "python",
   "nbconvert_exporter": "python",
   "pygments_lexer": "ipython3",
   "version": "3.8.5"
  },
  "toc": {
   "base_numbering": 1,
   "nav_menu": {},
   "number_sections": true,
   "sideBar": true,
   "skip_h1_title": false,
   "title_cell": "Table of Contents",
   "title_sidebar": "Contents",
   "toc_cell": false,
   "toc_position": {},
   "toc_section_display": true,
   "toc_window_display": false
  },
  "varInspector": {
   "cols": {
    "lenName": 16,
    "lenType": 16,
    "lenVar": 40
   },
   "kernels_config": {
    "python": {
     "delete_cmd_postfix": "",
     "delete_cmd_prefix": "del ",
     "library": "var_list.py",
     "varRefreshCmd": "print(var_dic_list())"
    },
    "r": {
     "delete_cmd_postfix": ") ",
     "delete_cmd_prefix": "rm(",
     "library": "var_list.r",
     "varRefreshCmd": "cat(var_dic_list()) "
    }
   },
   "types_to_exclude": [
    "module",
    "function",
    "builtin_function_or_method",
    "instance",
    "_Feature"
   ],
   "window_display": false
  }
 },
 "nbformat": 4,
 "nbformat_minor": 5
}
